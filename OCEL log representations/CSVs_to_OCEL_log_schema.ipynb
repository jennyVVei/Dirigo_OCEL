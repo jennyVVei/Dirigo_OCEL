{
 "cells": [
  {
   "cell_type": "code",
   "execution_count": 1,
   "id": "92d1e918",
   "metadata": {},
   "outputs": [],
   "source": [
    "import pandas as pd"
   ]
  },
  {
   "cell_type": "markdown",
   "id": "f935ff26",
   "metadata": {},
   "source": [
    "#### Event: AssignTrucks"
   ]
  },
  {
   "cell_type": "code",
   "execution_count": 2,
   "id": "5fc9ddb2",
   "metadata": {},
   "outputs": [],
   "source": [
    "event1_df = pd.read_csv('event_AssignTrucks.csv')\n",
    "event1_df = event1_df['ocel_id;ocel_time'].str.split(';', expand=True)\n",
    "event1_df.columns = ['ocel_id', 'ocel_time']"
   ]
  },
  {
   "cell_type": "code",
   "execution_count": 3,
   "id": "bf70fdb7",
   "metadata": {},
   "outputs": [
    {
     "data": {
      "text/html": [
       "<div>\n",
       "<style scoped>\n",
       "    .dataframe tbody tr th:only-of-type {\n",
       "        vertical-align: middle;\n",
       "    }\n",
       "\n",
       "    .dataframe tbody tr th {\n",
       "        vertical-align: top;\n",
       "    }\n",
       "\n",
       "    .dataframe thead th {\n",
       "        text-align: right;\n",
       "    }\n",
       "</style>\n",
       "<table border=\"1\" class=\"dataframe\">\n",
       "  <thead>\n",
       "    <tr style=\"text-align: right;\">\n",
       "      <th></th>\n",
       "      <th>ocel_id</th>\n",
       "      <th>ocel_time</th>\n",
       "    </tr>\n",
       "  </thead>\n",
       "  <tbody>\n",
       "    <tr>\n",
       "      <th>0</th>\n",
       "      <td>assign_trs_Pcp52</td>\n",
       "      <td>2024-04-01 08:47:11</td>\n",
       "    </tr>\n",
       "    <tr>\n",
       "      <th>1</th>\n",
       "      <td>assign_trs_Pcp20</td>\n",
       "      <td>2024-04-01 08:47:57</td>\n",
       "    </tr>\n",
       "    <tr>\n",
       "      <th>2</th>\n",
       "      <td>assign_trs_Pcp56</td>\n",
       "      <td>2024-04-01 08:54:07</td>\n",
       "    </tr>\n",
       "    <tr>\n",
       "      <th>3</th>\n",
       "      <td>assign_trs_Pcp92</td>\n",
       "      <td>2024-04-01 08:54:20</td>\n",
       "    </tr>\n",
       "    <tr>\n",
       "      <th>4</th>\n",
       "      <td>assign_trs_Pcp77</td>\n",
       "      <td>2024-04-01 09:03:49</td>\n",
       "    </tr>\n",
       "  </tbody>\n",
       "</table>\n",
       "</div>"
      ],
      "text/plain": [
       "            ocel_id            ocel_time\n",
       "0  assign_trs_Pcp52  2024-04-01 08:47:11\n",
       "1  assign_trs_Pcp20  2024-04-01 08:47:57\n",
       "2  assign_trs_Pcp56  2024-04-01 08:54:07\n",
       "3  assign_trs_Pcp92  2024-04-01 08:54:20\n",
       "4  assign_trs_Pcp77  2024-04-01 09:03:49"
      ]
     },
     "execution_count": 3,
     "metadata": {},
     "output_type": "execute_result"
    }
   ],
   "source": [
    "event1_df.head()"
   ]
  },
  {
   "cell_type": "code",
   "execution_count": 4,
   "id": "a44ace90",
   "metadata": {},
   "outputs": [
    {
     "data": {
      "text/plain": [
       "256"
      ]
     },
     "execution_count": 4,
     "metadata": {},
     "output_type": "execute_result"
    }
   ],
   "source": [
    "len(event1_df)"
   ]
  },
  {
   "cell_type": "code",
   "execution_count": 5,
   "id": "16a643cc",
   "metadata": {},
   "outputs": [],
   "source": [
    "# drop dupicates in the event1 \n",
    "event1_df2 = event1_df.drop_duplicates()"
   ]
  },
  {
   "cell_type": "code",
   "execution_count": 6,
   "id": "87c5d2ea",
   "metadata": {},
   "outputs": [
    {
     "data": {
      "text/plain": [
       "256"
      ]
     },
     "execution_count": 6,
     "metadata": {},
     "output_type": "execute_result"
    }
   ],
   "source": [
    "len(event1_df2)"
   ]
  },
  {
   "cell_type": "code",
   "execution_count": 7,
   "id": "17780e82",
   "metadata": {},
   "outputs": [
    {
     "data": {
      "text/html": [
       "<div>\n",
       "<style scoped>\n",
       "    .dataframe tbody tr th:only-of-type {\n",
       "        vertical-align: middle;\n",
       "    }\n",
       "\n",
       "    .dataframe tbody tr th {\n",
       "        vertical-align: top;\n",
       "    }\n",
       "\n",
       "    .dataframe thead th {\n",
       "        text-align: right;\n",
       "    }\n",
       "</style>\n",
       "<table border=\"1\" class=\"dataframe\">\n",
       "  <thead>\n",
       "    <tr style=\"text-align: right;\">\n",
       "      <th></th>\n",
       "      <th>ocel_id</th>\n",
       "      <th>ocel_time</th>\n",
       "    </tr>\n",
       "  </thead>\n",
       "  <tbody>\n",
       "    <tr>\n",
       "      <th>0</th>\n",
       "      <td>assign_trs_Pcp52</td>\n",
       "      <td>2024-04-01 08:47:11</td>\n",
       "    </tr>\n",
       "    <tr>\n",
       "      <th>1</th>\n",
       "      <td>assign_trs_Pcp20</td>\n",
       "      <td>2024-04-01 08:47:57</td>\n",
       "    </tr>\n",
       "    <tr>\n",
       "      <th>2</th>\n",
       "      <td>assign_trs_Pcp56</td>\n",
       "      <td>2024-04-01 08:54:07</td>\n",
       "    </tr>\n",
       "    <tr>\n",
       "      <th>3</th>\n",
       "      <td>assign_trs_Pcp92</td>\n",
       "      <td>2024-04-01 08:54:20</td>\n",
       "    </tr>\n",
       "    <tr>\n",
       "      <th>4</th>\n",
       "      <td>assign_trs_Pcp77</td>\n",
       "      <td>2024-04-01 09:03:49</td>\n",
       "    </tr>\n",
       "  </tbody>\n",
       "</table>\n",
       "</div>"
      ],
      "text/plain": [
       "            ocel_id            ocel_time\n",
       "0  assign_trs_Pcp52  2024-04-01 08:47:11\n",
       "1  assign_trs_Pcp20  2024-04-01 08:47:57\n",
       "2  assign_trs_Pcp56  2024-04-01 08:54:07\n",
       "3  assign_trs_Pcp92  2024-04-01 08:54:20\n",
       "4  assign_trs_Pcp77  2024-04-01 09:03:49"
      ]
     },
     "execution_count": 7,
     "metadata": {},
     "output_type": "execute_result"
    }
   ],
   "source": [
    "event1_df2.head()"
   ]
  },
  {
   "cell_type": "markdown",
   "id": "a8fccecd",
   "metadata": {},
   "source": [
    "#### Event: EvaluateTruckExit"
   ]
  },
  {
   "cell_type": "code",
   "execution_count": 8,
   "id": "278eba46",
   "metadata": {},
   "outputs": [
    {
     "data": {
      "text/plain": [
       "256"
      ]
     },
     "execution_count": 8,
     "metadata": {},
     "output_type": "execute_result"
    }
   ],
   "source": [
    "event2_df = pd.read_csv('event_EvaluateTruckExit.csv')\n",
    "event2_df = event2_df['ocel_id;ocel_time'].str.split(';', expand=True)\n",
    "event2_df.columns = ['ocel_id', 'ocel_time']\n",
    "len(event2_df)"
   ]
  },
  {
   "cell_type": "code",
   "execution_count": 9,
   "id": "46f127fd",
   "metadata": {},
   "outputs": [
    {
     "data": {
      "text/plain": [
       "256"
      ]
     },
     "execution_count": 9,
     "metadata": {},
     "output_type": "execute_result"
    }
   ],
   "source": [
    "event2_df2 = event2_df.drop_duplicates()\n",
    "len(event2_df2)"
   ]
  },
  {
   "cell_type": "markdown",
   "id": "ab7aa9c2",
   "metadata": {},
   "source": [
    "#### Event: InputTallySheet"
   ]
  },
  {
   "cell_type": "code",
   "execution_count": 10,
   "id": "86cdfb02",
   "metadata": {},
   "outputs": [
    {
     "data": {
      "text/plain": [
       "256"
      ]
     },
     "execution_count": 10,
     "metadata": {},
     "output_type": "execute_result"
    }
   ],
   "source": [
    "event3_df = pd.read_csv('event_InputTallySheet.csv')\n",
    "event3_df = event3_df['ocel_id;ocel_time'].str.split(';', expand=True)\n",
    "event3_df.columns = ['ocel_id', 'ocel_time']\n",
    "len(event3_df)"
   ]
  },
  {
   "cell_type": "code",
   "execution_count": 11,
   "id": "96ae1090",
   "metadata": {},
   "outputs": [
    {
     "data": {
      "text/plain": [
       "256"
      ]
     },
     "execution_count": 11,
     "metadata": {},
     "output_type": "execute_result"
    }
   ],
   "source": [
    "event3_df2 = event3_df.drop_duplicates()\n",
    "len(event3_df2)"
   ]
  },
  {
   "cell_type": "markdown",
   "id": "58e1c439",
   "metadata": {},
   "source": [
    "#### Event: LoadTruck"
   ]
  },
  {
   "cell_type": "code",
   "execution_count": 12,
   "id": "52dc77e4",
   "metadata": {},
   "outputs": [
    {
     "data": {
      "text/plain": [
       "256"
      ]
     },
     "execution_count": 12,
     "metadata": {},
     "output_type": "execute_result"
    }
   ],
   "source": [
    "event4_df = pd.read_csv('event_LoadTruck.csv')\n",
    "event4_df = event4_df['ocel_id;ocel_time'].str.split(';', expand=True)\n",
    "event4_df.columns = ['ocel_id', 'ocel_time']\n",
    "len(event4_df)"
   ]
  },
  {
   "cell_type": "code",
   "execution_count": 13,
   "id": "f3880ae3",
   "metadata": {},
   "outputs": [
    {
     "data": {
      "text/plain": [
       "256"
      ]
     },
     "execution_count": 13,
     "metadata": {},
     "output_type": "execute_result"
    }
   ],
   "source": [
    "event4_df2 = event4_df.drop_duplicates()\n",
    "len(event4_df2)"
   ]
  },
  {
   "cell_type": "markdown",
   "id": "668ca1ca",
   "metadata": {},
   "source": [
    "#### Event: PrintWeighingTicket"
   ]
  },
  {
   "cell_type": "code",
   "execution_count": 14,
   "id": "abf7c22e",
   "metadata": {},
   "outputs": [
    {
     "data": {
      "text/plain": [
       "256"
      ]
     },
     "execution_count": 14,
     "metadata": {},
     "output_type": "execute_result"
    }
   ],
   "source": [
    "event5_df = pd.read_csv('event_PrintWeighingTicket.csv')\n",
    "event5_df = event5_df['ocel_id;ocel_time'].str.split(';', expand=True)\n",
    "event5_df.columns = ['ocel_id', 'ocel_time']\n",
    "len(event5_df)"
   ]
  },
  {
   "cell_type": "code",
   "execution_count": 15,
   "id": "c9e4a464",
   "metadata": {},
   "outputs": [
    {
     "data": {
      "text/plain": [
       "256"
      ]
     },
     "execution_count": 15,
     "metadata": {},
     "output_type": "execute_result"
    }
   ],
   "source": [
    "event5_df2 = event5_df.drop_duplicates()\n",
    "len(event5_df2)"
   ]
  },
  {
   "cell_type": "markdown",
   "id": "c0975e08",
   "metadata": {},
   "source": [
    "#### Event: WeighEmptyTruck"
   ]
  },
  {
   "cell_type": "code",
   "execution_count": 16,
   "id": "9a873ac4",
   "metadata": {},
   "outputs": [
    {
     "data": {
      "text/plain": [
       "256"
      ]
     },
     "execution_count": 16,
     "metadata": {},
     "output_type": "execute_result"
    }
   ],
   "source": [
    "event6_df = pd.read_csv('event_WeighEmptyTruck.csv')\n",
    "event6_df = event6_df['ocel_id;ocel_time'].str.split(';', expand=True)\n",
    "event6_df.columns = ['ocel_id', 'ocel_time']\n",
    "len(event6_df)"
   ]
  },
  {
   "cell_type": "code",
   "execution_count": 17,
   "id": "f1aa8355",
   "metadata": {},
   "outputs": [
    {
     "data": {
      "text/plain": [
       "256"
      ]
     },
     "execution_count": 17,
     "metadata": {},
     "output_type": "execute_result"
    }
   ],
   "source": [
    "event6_df2 = event6_df.drop_duplicates()\n",
    "len(event6_df2)"
   ]
  },
  {
   "cell_type": "markdown",
   "id": "ce7d7d23",
   "metadata": {},
   "source": [
    "#### Event: WeighLoadedTruck"
   ]
  },
  {
   "cell_type": "code",
   "execution_count": 18,
   "id": "46160fad",
   "metadata": {},
   "outputs": [
    {
     "data": {
      "text/plain": [
       "256"
      ]
     },
     "execution_count": 18,
     "metadata": {},
     "output_type": "execute_result"
    }
   ],
   "source": [
    "event7_df = pd.read_csv('event_WeighLoadedTruck.csv')\n",
    "event7_df = event7_df['ocel_id;ocel_time'].str.split(';', expand=True)\n",
    "event7_df.columns = ['ocel_id', 'ocel_time']\n",
    "len(event7_df)"
   ]
  },
  {
   "cell_type": "code",
   "execution_count": 19,
   "id": "8dd7e437",
   "metadata": {},
   "outputs": [
    {
     "data": {
      "text/plain": [
       "256"
      ]
     },
     "execution_count": 19,
     "metadata": {},
     "output_type": "execute_result"
    }
   ],
   "source": [
    "event7_df2 = event7_df.drop_duplicates()\n",
    "len(event7_df2)"
   ]
  },
  {
   "cell_type": "markdown",
   "id": "db6d9c95",
   "metadata": {},
   "source": [
    "#### Event: LodegePickupPlan"
   ]
  },
  {
   "cell_type": "code",
   "execution_count": 20,
   "id": "a5f080fd",
   "metadata": {},
   "outputs": [
    {
     "data": {
      "text/plain": [
       "100"
      ]
     },
     "execution_count": 20,
     "metadata": {},
     "output_type": "execute_result"
    }
   ],
   "source": [
    "event8_df = pd.read_csv('event_LodgePickupPlan.csv')\n",
    "event8_df = event8_df['ocel_id;ocel_time'].str.split(';', expand=True)\n",
    "event8_df.columns = ['ocel_id', 'ocel_time']\n",
    "len(event8_df)"
   ]
  },
  {
   "cell_type": "code",
   "execution_count": 21,
   "id": "6c68e428",
   "metadata": {
    "scrolled": true
   },
   "outputs": [
    {
     "data": {
      "text/plain": [
       "100"
      ]
     },
     "execution_count": 21,
     "metadata": {},
     "output_type": "execute_result"
    }
   ],
   "source": [
    "event8_df2 = event8_df.drop_duplicates()\n",
    "len(event8_df2)"
   ]
  },
  {
   "cell_type": "markdown",
   "id": "015538e9",
   "metadata": {},
   "source": [
    "#### Concatenates all event tables"
   ]
  },
  {
   "cell_type": "code",
   "execution_count": 22,
   "id": "9835bdcf",
   "metadata": {},
   "outputs": [],
   "source": [
    "combined_events = pd.concat([event1_df2, event2_df2, event3_df2, event4_df2, event5_df2, event6_df2, event7_df2, event8_df2])"
   ]
  },
  {
   "cell_type": "code",
   "execution_count": 23,
   "id": "dcd2f545",
   "metadata": {},
   "outputs": [],
   "source": [
    "sorted_events = combined_events.sort_values(by='ocel_time')"
   ]
  },
  {
   "cell_type": "markdown",
   "id": "b99686d0",
   "metadata": {},
   "source": [
    "#### Event table"
   ]
  },
  {
   "cell_type": "code",
   "execution_count": 24,
   "id": "7f344ff5",
   "metadata": {},
   "outputs": [
    {
     "name": "stdout",
     "output_type": "stream",
     "text": [
      "       ocel_id          ocel_type\n",
      "0  Lodge_Pcp20  Lodge Pickup Plan\n",
      "1  Lodge_Pcp49  Lodge Pickup Plan\n",
      "2  Lodge_Pcp56  Lodge Pickup Plan\n",
      "3  Lodge_Pcp77  Lodge Pickup Plan\n",
      "4  Lodge_Pcp52  Lodge Pickup Plan\n"
     ]
    }
   ],
   "source": [
    "event_df = pd.read_csv('event.csv')\n",
    "event_df = event_df['ocel_id;ocel_type'].str.split(';', expand=True)\n",
    "event_df.columns = ['ocel_id','ocel_type']\n",
    "print(event_df.head())"
   ]
  },
  {
   "cell_type": "code",
   "execution_count": 25,
   "id": "4a7769c0",
   "metadata": {},
   "outputs": [],
   "source": [
    "events = pd.merge(sorted_events, event_df, on='ocel_id', how='inner')"
   ]
  },
  {
   "cell_type": "code",
   "execution_count": 26,
   "id": "f675fc5f",
   "metadata": {
    "scrolled": false
   },
   "outputs": [],
   "source": [
    "events_distinct = events.drop_duplicates()"
   ]
  },
  {
   "cell_type": "code",
   "execution_count": 27,
   "id": "5d1665da",
   "metadata": {},
   "outputs": [
    {
     "name": "stderr",
     "output_type": "stream",
     "text": [
      "/opt/anaconda3/lib/python3.8/site-packages/pandas/core/frame.py:4441: SettingWithCopyWarning: \n",
      "A value is trying to be set on a copy of a slice from a DataFrame\n",
      "\n",
      "See the caveats in the documentation: https://pandas.pydata.org/pandas-docs/stable/user_guide/indexing.html#returning-a-view-versus-a-copy\n",
      "  return super().rename(\n"
     ]
    }
   ],
   "source": [
    "events_distinct.rename(columns={'ocel_id': 'event_id', 'ocel_type': 'activity', 'ocel_time': 'timestamp'}, inplace=True)"
   ]
  },
  {
   "cell_type": "code",
   "execution_count": 28,
   "id": "2e8c9c71",
   "metadata": {},
   "outputs": [
    {
     "data": {
      "text/html": [
       "<div>\n",
       "<style scoped>\n",
       "    .dataframe tbody tr th:only-of-type {\n",
       "        vertical-align: middle;\n",
       "    }\n",
       "\n",
       "    .dataframe tbody tr th {\n",
       "        vertical-align: top;\n",
       "    }\n",
       "\n",
       "    .dataframe thead th {\n",
       "        text-align: right;\n",
       "    }\n",
       "</style>\n",
       "<table border=\"1\" class=\"dataframe\">\n",
       "  <thead>\n",
       "    <tr style=\"text-align: right;\">\n",
       "      <th></th>\n",
       "      <th>event_id</th>\n",
       "      <th>timestamp</th>\n",
       "      <th>activity</th>\n",
       "    </tr>\n",
       "  </thead>\n",
       "  <tbody>\n",
       "    <tr>\n",
       "      <th>0</th>\n",
       "      <td>Lodge_Pcp20</td>\n",
       "      <td>2024-03-04 07:33:41</td>\n",
       "      <td>Lodge Pickup Plan</td>\n",
       "    </tr>\n",
       "    <tr>\n",
       "      <th>1</th>\n",
       "      <td>Lodge_Pcp49</td>\n",
       "      <td>2024-03-04 07:33:49</td>\n",
       "      <td>Lodge Pickup Plan</td>\n",
       "    </tr>\n",
       "    <tr>\n",
       "      <th>2</th>\n",
       "      <td>Lodge_Pcp56</td>\n",
       "      <td>2024-03-04 07:35:08</td>\n",
       "      <td>Lodge Pickup Plan</td>\n",
       "    </tr>\n",
       "    <tr>\n",
       "      <th>3</th>\n",
       "      <td>Lodge_Pcp77</td>\n",
       "      <td>2024-03-04 07:36:01</td>\n",
       "      <td>Lodge Pickup Plan</td>\n",
       "    </tr>\n",
       "    <tr>\n",
       "      <th>4</th>\n",
       "      <td>Lodge_Pcp52</td>\n",
       "      <td>2024-03-04 07:36:17</td>\n",
       "      <td>Lodge Pickup Plan</td>\n",
       "    </tr>\n",
       "    <tr>\n",
       "      <th>...</th>\n",
       "      <td>...</td>\n",
       "      <td>...</td>\n",
       "      <td>...</td>\n",
       "    </tr>\n",
       "    <tr>\n",
       "      <th>7893</th>\n",
       "      <td>eval_trs_exittr27_Pcp32</td>\n",
       "      <td>2024-04-11 21:50:42</td>\n",
       "      <td>Evaluate the Truck Exit</td>\n",
       "    </tr>\n",
       "    <tr>\n",
       "      <th>7894</th>\n",
       "      <td>eval_trs_exittr37_Pcp55</td>\n",
       "      <td>2024-04-11 22:11:39</td>\n",
       "      <td>Evaluate the Truck Exit</td>\n",
       "    </tr>\n",
       "    <tr>\n",
       "      <th>7895</th>\n",
       "      <td>eval_trs_exittr44_Pcp62</td>\n",
       "      <td>2024-04-11 22:52:08</td>\n",
       "      <td>Evaluate the Truck Exit</td>\n",
       "    </tr>\n",
       "    <tr>\n",
       "      <th>7896</th>\n",
       "      <td>eval_trs_exittr7_Pcp31</td>\n",
       "      <td>2024-04-12 07:28:47</td>\n",
       "      <td>Evaluate the Truck Exit</td>\n",
       "    </tr>\n",
       "    <tr>\n",
       "      <th>7897</th>\n",
       "      <td>eval_trs_exittr43_Pcp75</td>\n",
       "      <td>2024-04-12 14:20:50</td>\n",
       "      <td>Evaluate the Truck Exit</td>\n",
       "    </tr>\n",
       "  </tbody>\n",
       "</table>\n",
       "<p>1892 rows × 3 columns</p>\n",
       "</div>"
      ],
      "text/plain": [
       "                     event_id            timestamp                 activity\n",
       "0                 Lodge_Pcp20  2024-03-04 07:33:41        Lodge Pickup Plan\n",
       "1                 Lodge_Pcp49  2024-03-04 07:33:49        Lodge Pickup Plan\n",
       "2                 Lodge_Pcp56  2024-03-04 07:35:08        Lodge Pickup Plan\n",
       "3                 Lodge_Pcp77  2024-03-04 07:36:01        Lodge Pickup Plan\n",
       "4                 Lodge_Pcp52  2024-03-04 07:36:17        Lodge Pickup Plan\n",
       "...                       ...                  ...                      ...\n",
       "7893  eval_trs_exittr27_Pcp32  2024-04-11 21:50:42  Evaluate the Truck Exit\n",
       "7894  eval_trs_exittr37_Pcp55  2024-04-11 22:11:39  Evaluate the Truck Exit\n",
       "7895  eval_trs_exittr44_Pcp62  2024-04-11 22:52:08  Evaluate the Truck Exit\n",
       "7896   eval_trs_exittr7_Pcp31  2024-04-12 07:28:47  Evaluate the Truck Exit\n",
       "7897  eval_trs_exittr43_Pcp75  2024-04-12 14:20:50  Evaluate the Truck Exit\n",
       "\n",
       "[1892 rows x 3 columns]"
      ]
     },
     "execution_count": 28,
     "metadata": {},
     "output_type": "execute_result"
    }
   ],
   "source": [
    "events_distinct"
   ]
  },
  {
   "cell_type": "code",
   "execution_count": 29,
   "id": "7d3c25f3",
   "metadata": {},
   "outputs": [],
   "source": [
    "events_distinct.to_csv('OCEL_Events.csv', index = False)"
   ]
  },
  {
   "cell_type": "markdown",
   "id": "2088383c",
   "metadata": {},
   "source": [
    "#### Event-to-Object relationships"
   ]
  },
  {
   "cell_type": "code",
   "execution_count": 30,
   "id": "ac012716",
   "metadata": {},
   "outputs": [],
   "source": [
    "e2o_df = pd.read_csv('event_object.csv')\n",
    "e2o_df = e2o_df['ocel_event_id;ocel_object_id;ocel_qualifier'].str.split(';', expand=True)\n",
    "e2o_df.columns = ['ocel_event_id', 'ocel_object_id', 'ocel_qualifier']\n",
    "e2o_df.rename(columns={'ocel_event_id': 'event_id', 'ocel_object_id': 'object_id', 'ocel_qualifier': 'e2o_qualifier'}, inplace=True)"
   ]
  },
  {
   "cell_type": "code",
   "execution_count": 31,
   "id": "69594b8b",
   "metadata": {},
   "outputs": [
    {
     "data": {
      "text/html": [
       "<div>\n",
       "<style scoped>\n",
       "    .dataframe tbody tr th:only-of-type {\n",
       "        vertical-align: middle;\n",
       "    }\n",
       "\n",
       "    .dataframe tbody tr th {\n",
       "        vertical-align: top;\n",
       "    }\n",
       "\n",
       "    .dataframe thead th {\n",
       "        text-align: right;\n",
       "    }\n",
       "</style>\n",
       "<table border=\"1\" class=\"dataframe\">\n",
       "  <thead>\n",
       "    <tr style=\"text-align: right;\">\n",
       "      <th></th>\n",
       "      <th>event_id</th>\n",
       "      <th>object_id</th>\n",
       "      <th>e2o_qualifier</th>\n",
       "    </tr>\n",
       "  </thead>\n",
       "  <tbody>\n",
       "    <tr>\n",
       "      <th>0</th>\n",
       "      <td>Lodge_Pcp20</td>\n",
       "      <td>Pcp20</td>\n",
       "      <td>lodged pickup plan</td>\n",
       "    </tr>\n",
       "    <tr>\n",
       "      <th>1</th>\n",
       "      <td>Lodge_Pcp20</td>\n",
       "      <td>Cr89</td>\n",
       "      <td>cargo scheduled to be pick up</td>\n",
       "    </tr>\n",
       "    <tr>\n",
       "      <th>2</th>\n",
       "      <td>Lodge_Pcp49</td>\n",
       "      <td>Pcp49</td>\n",
       "      <td>lodged pickup plan</td>\n",
       "    </tr>\n",
       "    <tr>\n",
       "      <th>3</th>\n",
       "      <td>Lodge_Pcp49</td>\n",
       "      <td>Cr62</td>\n",
       "      <td>cargo scheduled to be pick up</td>\n",
       "    </tr>\n",
       "    <tr>\n",
       "      <th>4</th>\n",
       "      <td>Lodge_Pcp56</td>\n",
       "      <td>Pcp56</td>\n",
       "      <td>lodged pickup plan</td>\n",
       "    </tr>\n",
       "    <tr>\n",
       "      <th>...</th>\n",
       "      <td>...</td>\n",
       "      <td>...</td>\n",
       "      <td>...</td>\n",
       "    </tr>\n",
       "    <tr>\n",
       "      <th>1974</th>\n",
       "      <td>eval_trs_exittr27_Pcp32</td>\n",
       "      <td>tr27</td>\n",
       "      <td>Exit evaluation for truck</td>\n",
       "    </tr>\n",
       "    <tr>\n",
       "      <th>1977</th>\n",
       "      <td>eval_trs_exittr37_Pcp55</td>\n",
       "      <td>tr37</td>\n",
       "      <td>Exit evaluation for truck</td>\n",
       "    </tr>\n",
       "    <tr>\n",
       "      <th>1980</th>\n",
       "      <td>eval_trs_exittr44_Pcp62</td>\n",
       "      <td>tr44</td>\n",
       "      <td>Exit evaluation for truck</td>\n",
       "    </tr>\n",
       "    <tr>\n",
       "      <th>1983</th>\n",
       "      <td>eval_trs_exittr7_Pcp31</td>\n",
       "      <td>tr7</td>\n",
       "      <td>Exit evaluation for truck</td>\n",
       "    </tr>\n",
       "    <tr>\n",
       "      <th>1991</th>\n",
       "      <td>eval_trs_exittr43_Pcp75</td>\n",
       "      <td>tr43</td>\n",
       "      <td>Exit evaluation for truck</td>\n",
       "    </tr>\n",
       "  </tbody>\n",
       "</table>\n",
       "<p>956 rows × 3 columns</p>\n",
       "</div>"
      ],
      "text/plain": [
       "                     event_id object_id                  e2o_qualifier\n",
       "0                 Lodge_Pcp20     Pcp20             lodged pickup plan\n",
       "1                 Lodge_Pcp20      Cr89  cargo scheduled to be pick up\n",
       "2                 Lodge_Pcp49     Pcp49             lodged pickup plan\n",
       "3                 Lodge_Pcp49      Cr62  cargo scheduled to be pick up\n",
       "4                 Lodge_Pcp56     Pcp56             lodged pickup plan\n",
       "...                       ...       ...                            ...\n",
       "1974  eval_trs_exittr27_Pcp32      tr27      Exit evaluation for truck\n",
       "1977  eval_trs_exittr37_Pcp55      tr37      Exit evaluation for truck\n",
       "1980  eval_trs_exittr44_Pcp62      tr44      Exit evaluation for truck\n",
       "1983   eval_trs_exittr7_Pcp31       tr7      Exit evaluation for truck\n",
       "1991  eval_trs_exittr43_Pcp75      tr43      Exit evaluation for truck\n",
       "\n",
       "[956 rows x 3 columns]"
      ]
     },
     "execution_count": 31,
     "metadata": {},
     "output_type": "execute_result"
    }
   ],
   "source": [
    "e2o_df_distinct = e2o_df.drop_duplicates()\n",
    "e2o_df_distinct"
   ]
  },
  {
   "cell_type": "code",
   "execution_count": 32,
   "id": "be6756cb",
   "metadata": {},
   "outputs": [],
   "source": [
    "e2o_df_distinct.to_csv('OCEL_E2O.csv', index = False)"
   ]
  },
  {
   "cell_type": "markdown",
   "id": "d804e3a4",
   "metadata": {},
   "source": [
    "#### Object-to-Object relationships"
   ]
  },
  {
   "cell_type": "code",
   "execution_count": 33,
   "id": "0075e402",
   "metadata": {},
   "outputs": [],
   "source": [
    "o2o_df = pd.read_csv('object_object.csv')\n",
    "o2o_df = o2o_df['ocel_source_id;ocel_target_id;ocel_qualifier;ocel_time'].str.split(';', expand=True)\n",
    "o2o_df.columns = ['ocel_source_id', 'ocel_target_id', 'ocel_qualifier','ocel_time']"
   ]
  },
  {
   "cell_type": "code",
   "execution_count": 34,
   "id": "d75f6a17",
   "metadata": {
    "scrolled": false
   },
   "outputs": [
    {
     "data": {
      "text/html": [
       "<div>\n",
       "<style scoped>\n",
       "    .dataframe tbody tr th:only-of-type {\n",
       "        vertical-align: middle;\n",
       "    }\n",
       "\n",
       "    .dataframe tbody tr th {\n",
       "        vertical-align: top;\n",
       "    }\n",
       "\n",
       "    .dataframe thead th {\n",
       "        text-align: right;\n",
       "    }\n",
       "</style>\n",
       "<table border=\"1\" class=\"dataframe\">\n",
       "  <thead>\n",
       "    <tr style=\"text-align: right;\">\n",
       "      <th></th>\n",
       "      <th>ocel_source_id</th>\n",
       "      <th>ocel_target_id</th>\n",
       "      <th>ocel_qualifier</th>\n",
       "      <th>ocel_time</th>\n",
       "    </tr>\n",
       "  </thead>\n",
       "  <tbody>\n",
       "    <tr>\n",
       "      <th>0</th>\n",
       "      <td>Pcp20</td>\n",
       "      <td>Cr89</td>\n",
       "      <td>Lodged pickup plan for cargo</td>\n",
       "      <td>2024-03-04 07:33:41</td>\n",
       "    </tr>\n",
       "    <tr>\n",
       "      <th>1</th>\n",
       "      <td>Pcp49</td>\n",
       "      <td>Cr62</td>\n",
       "      <td>Lodged pickup plan for cargo</td>\n",
       "      <td>2024-03-04 07:33:49</td>\n",
       "    </tr>\n",
       "    <tr>\n",
       "      <th>2</th>\n",
       "      <td>Pcp56</td>\n",
       "      <td>Cr14</td>\n",
       "      <td>Lodged pickup plan for cargo</td>\n",
       "      <td>2024-03-04 07:35:08</td>\n",
       "    </tr>\n",
       "    <tr>\n",
       "      <th>3</th>\n",
       "      <td>Pcp77</td>\n",
       "      <td>Cr46</td>\n",
       "      <td>Lodged pickup plan for cargo</td>\n",
       "      <td>2024-03-04 07:36:01</td>\n",
       "    </tr>\n",
       "    <tr>\n",
       "      <th>4</th>\n",
       "      <td>Pcp52</td>\n",
       "      <td>Cr24</td>\n",
       "      <td>Lodged pickup plan for cargo</td>\n",
       "      <td>2024-03-04 07:36:17</td>\n",
       "    </tr>\n",
       "    <tr>\n",
       "      <th>...</th>\n",
       "      <td>...</td>\n",
       "      <td>...</td>\n",
       "      <td>...</td>\n",
       "      <td>...</td>\n",
       "    </tr>\n",
       "    <tr>\n",
       "      <th>607</th>\n",
       "      <td>tr37</td>\n",
       "      <td>Pcp55</td>\n",
       "      <td>Dropped truck from pickup plan</td>\n",
       "      <td>2024-04-11 22:11:39</td>\n",
       "    </tr>\n",
       "    <tr>\n",
       "      <th>608</th>\n",
       "      <td>tr44</td>\n",
       "      <td>Pcp62</td>\n",
       "      <td>Dropped truck from pickup plan</td>\n",
       "      <td>2024-04-11 22:52:08</td>\n",
       "    </tr>\n",
       "    <tr>\n",
       "      <th>609</th>\n",
       "      <td>tr7</td>\n",
       "      <td>Pcp31</td>\n",
       "      <td>Dropped truck from pickup plan</td>\n",
       "      <td>2024-04-12 07:28:47</td>\n",
       "    </tr>\n",
       "    <tr>\n",
       "      <th>610</th>\n",
       "      <td>tr20</td>\n",
       "      <td>Pcp85</td>\n",
       "      <td>Dropped truck from pickup plan</td>\n",
       "      <td>2024-04-12 10:39:04</td>\n",
       "    </tr>\n",
       "    <tr>\n",
       "      <th>611</th>\n",
       "      <td>tr43</td>\n",
       "      <td>Pcp75</td>\n",
       "      <td>Dropped truck from pickup plan</td>\n",
       "      <td>2024-04-12 14:20:50</td>\n",
       "    </tr>\n",
       "  </tbody>\n",
       "</table>\n",
       "<p>612 rows × 4 columns</p>\n",
       "</div>"
      ],
      "text/plain": [
       "    ocel_source_id ocel_target_id                  ocel_qualifier  \\\n",
       "0            Pcp20           Cr89    Lodged pickup plan for cargo   \n",
       "1            Pcp49           Cr62    Lodged pickup plan for cargo   \n",
       "2            Pcp56           Cr14    Lodged pickup plan for cargo   \n",
       "3            Pcp77           Cr46    Lodged pickup plan for cargo   \n",
       "4            Pcp52           Cr24    Lodged pickup plan for cargo   \n",
       "..             ...            ...                             ...   \n",
       "607           tr37          Pcp55  Dropped truck from pickup plan   \n",
       "608           tr44          Pcp62  Dropped truck from pickup plan   \n",
       "609            tr7          Pcp31  Dropped truck from pickup plan   \n",
       "610           tr20          Pcp85  Dropped truck from pickup plan   \n",
       "611           tr43          Pcp75  Dropped truck from pickup plan   \n",
       "\n",
       "               ocel_time  \n",
       "0    2024-03-04 07:33:41  \n",
       "1    2024-03-04 07:33:49  \n",
       "2    2024-03-04 07:35:08  \n",
       "3    2024-03-04 07:36:01  \n",
       "4    2024-03-04 07:36:17  \n",
       "..                   ...  \n",
       "607  2024-04-11 22:11:39  \n",
       "608  2024-04-11 22:52:08  \n",
       "609  2024-04-12 07:28:47  \n",
       "610  2024-04-12 10:39:04  \n",
       "611  2024-04-12 14:20:50  \n",
       "\n",
       "[612 rows x 4 columns]"
      ]
     },
     "execution_count": 34,
     "metadata": {},
     "output_type": "execute_result"
    }
   ],
   "source": [
    "o2o_df_distinct = o2o_df.drop_duplicates()\n",
    "o2o_df_distinct"
   ]
  },
  {
   "cell_type": "code",
   "execution_count": 35,
   "id": "3c7132ca",
   "metadata": {
    "scrolled": true
   },
   "outputs": [],
   "source": [
    "o2o_df_distinct.rename(columns={'ocel_source_id': 'source_object_id', 'ocel_target_id': 'target_object_id', 'ocel_qualifier': 'o2o_qualifier','ocel_time':'timestamp'}, inplace=True)"
   ]
  },
  {
   "cell_type": "code",
   "execution_count": 36,
   "id": "22e7fbb3",
   "metadata": {
    "scrolled": false
   },
   "outputs": [
    {
     "data": {
      "text/html": [
       "<div>\n",
       "<style scoped>\n",
       "    .dataframe tbody tr th:only-of-type {\n",
       "        vertical-align: middle;\n",
       "    }\n",
       "\n",
       "    .dataframe tbody tr th {\n",
       "        vertical-align: top;\n",
       "    }\n",
       "\n",
       "    .dataframe thead th {\n",
       "        text-align: right;\n",
       "    }\n",
       "</style>\n",
       "<table border=\"1\" class=\"dataframe\">\n",
       "  <thead>\n",
       "    <tr style=\"text-align: right;\">\n",
       "      <th></th>\n",
       "      <th>source_object_id</th>\n",
       "      <th>target_object_id</th>\n",
       "      <th>o2o_qualifier</th>\n",
       "      <th>timestamp</th>\n",
       "    </tr>\n",
       "  </thead>\n",
       "  <tbody>\n",
       "    <tr>\n",
       "      <th>0</th>\n",
       "      <td>Pcp20</td>\n",
       "      <td>Cr89</td>\n",
       "      <td>Lodged pickup plan for cargo</td>\n",
       "      <td>2024-03-04 07:33:41</td>\n",
       "    </tr>\n",
       "    <tr>\n",
       "      <th>1</th>\n",
       "      <td>Pcp49</td>\n",
       "      <td>Cr62</td>\n",
       "      <td>Lodged pickup plan for cargo</td>\n",
       "      <td>2024-03-04 07:33:49</td>\n",
       "    </tr>\n",
       "    <tr>\n",
       "      <th>2</th>\n",
       "      <td>Pcp56</td>\n",
       "      <td>Cr14</td>\n",
       "      <td>Lodged pickup plan for cargo</td>\n",
       "      <td>2024-03-04 07:35:08</td>\n",
       "    </tr>\n",
       "    <tr>\n",
       "      <th>3</th>\n",
       "      <td>Pcp77</td>\n",
       "      <td>Cr46</td>\n",
       "      <td>Lodged pickup plan for cargo</td>\n",
       "      <td>2024-03-04 07:36:01</td>\n",
       "    </tr>\n",
       "    <tr>\n",
       "      <th>4</th>\n",
       "      <td>Pcp52</td>\n",
       "      <td>Cr24</td>\n",
       "      <td>Lodged pickup plan for cargo</td>\n",
       "      <td>2024-03-04 07:36:17</td>\n",
       "    </tr>\n",
       "    <tr>\n",
       "      <th>...</th>\n",
       "      <td>...</td>\n",
       "      <td>...</td>\n",
       "      <td>...</td>\n",
       "      <td>...</td>\n",
       "    </tr>\n",
       "    <tr>\n",
       "      <th>607</th>\n",
       "      <td>tr37</td>\n",
       "      <td>Pcp55</td>\n",
       "      <td>Dropped truck from pickup plan</td>\n",
       "      <td>2024-04-11 22:11:39</td>\n",
       "    </tr>\n",
       "    <tr>\n",
       "      <th>608</th>\n",
       "      <td>tr44</td>\n",
       "      <td>Pcp62</td>\n",
       "      <td>Dropped truck from pickup plan</td>\n",
       "      <td>2024-04-11 22:52:08</td>\n",
       "    </tr>\n",
       "    <tr>\n",
       "      <th>609</th>\n",
       "      <td>tr7</td>\n",
       "      <td>Pcp31</td>\n",
       "      <td>Dropped truck from pickup plan</td>\n",
       "      <td>2024-04-12 07:28:47</td>\n",
       "    </tr>\n",
       "    <tr>\n",
       "      <th>610</th>\n",
       "      <td>tr20</td>\n",
       "      <td>Pcp85</td>\n",
       "      <td>Dropped truck from pickup plan</td>\n",
       "      <td>2024-04-12 10:39:04</td>\n",
       "    </tr>\n",
       "    <tr>\n",
       "      <th>611</th>\n",
       "      <td>tr43</td>\n",
       "      <td>Pcp75</td>\n",
       "      <td>Dropped truck from pickup plan</td>\n",
       "      <td>2024-04-12 14:20:50</td>\n",
       "    </tr>\n",
       "  </tbody>\n",
       "</table>\n",
       "<p>612 rows × 4 columns</p>\n",
       "</div>"
      ],
      "text/plain": [
       "    source_object_id target_object_id                   o2o_qualifier  \\\n",
       "0              Pcp20             Cr89    Lodged pickup plan for cargo   \n",
       "1              Pcp49             Cr62    Lodged pickup plan for cargo   \n",
       "2              Pcp56             Cr14    Lodged pickup plan for cargo   \n",
       "3              Pcp77             Cr46    Lodged pickup plan for cargo   \n",
       "4              Pcp52             Cr24    Lodged pickup plan for cargo   \n",
       "..               ...              ...                             ...   \n",
       "607             tr37            Pcp55  Dropped truck from pickup plan   \n",
       "608             tr44            Pcp62  Dropped truck from pickup plan   \n",
       "609              tr7            Pcp31  Dropped truck from pickup plan   \n",
       "610             tr20            Pcp85  Dropped truck from pickup plan   \n",
       "611             tr43            Pcp75  Dropped truck from pickup plan   \n",
       "\n",
       "               timestamp  \n",
       "0    2024-03-04 07:33:41  \n",
       "1    2024-03-04 07:33:49  \n",
       "2    2024-03-04 07:35:08  \n",
       "3    2024-03-04 07:36:01  \n",
       "4    2024-03-04 07:36:17  \n",
       "..                   ...  \n",
       "607  2024-04-11 22:11:39  \n",
       "608  2024-04-11 22:52:08  \n",
       "609  2024-04-12 07:28:47  \n",
       "610  2024-04-12 10:39:04  \n",
       "611  2024-04-12 14:20:50  \n",
       "\n",
       "[612 rows x 4 columns]"
      ]
     },
     "execution_count": 36,
     "metadata": {},
     "output_type": "execute_result"
    }
   ],
   "source": [
    "o2o_df_distinct"
   ]
  },
  {
   "cell_type": "code",
   "execution_count": 37,
   "id": "3fef713b",
   "metadata": {},
   "outputs": [],
   "source": [
    "o2o_df_distinct.to_csv('OCEL_O2O.csv', index = False)"
   ]
  },
  {
   "cell_type": "markdown",
   "id": "92db97ce",
   "metadata": {},
   "source": [
    "#### Object: Truck"
   ]
  },
  {
   "cell_type": "code",
   "execution_count": 38,
   "id": "c91cb782",
   "metadata": {},
   "outputs": [],
   "source": [
    "truck_df = pd.read_csv('object_Truck.csv')\n",
    "truck_df = truck_df['ocel_id;ocel_time;ocel_changed_field;Pickup Plan ID;Cargo ID;LPT;Axles;Scheduled Pickup Weight;Truck Status;Truck Weight'].str.split(';', expand=True)\n",
    "truck_df.columns = ['ocel_id','ocel_time','ocel_changed_field','Pickup Plan ID','Cargo ID','LPT','Axles','Scheduled Pickup Weight','Truck Status','Truck Weight']\n",
    "truck_df.rename(columns={'ocel_id': 'object_id', 'ocel_time': 'timestamp'}, inplace=True)"
   ]
  },
  {
   "cell_type": "code",
   "execution_count": 39,
   "id": "c1e540c4",
   "metadata": {},
   "outputs": [],
   "source": [
    "truck_df.to_csv('OCEL_Truck.csv', index = False)"
   ]
  },
  {
   "cell_type": "markdown",
   "id": "9c9b2373",
   "metadata": {},
   "source": [
    "#### Object: PickupPlan"
   ]
  },
  {
   "cell_type": "code",
   "execution_count": 40,
   "id": "2247d251",
   "metadata": {},
   "outputs": [],
   "source": [
    "pickupplan_df = pd.read_csv('object_Pickupplan.csv')\n",
    "pickupplan_df = pickupplan_df['ocel_id;ocel_time;ocel_changed_field;Cargo ID;Num of trucks;Total pickup weight'].str.split(';', expand=True)\n",
    "pickupplan_df.columns = ['ocel_id','ocel_time','ocel_changed_field','Cargo ID','Num of trucks','Total pickup weight']\n",
    "pickupplan_df.rename(columns={'ocel_id': 'object_id', 'ocel_time': 'timestamp'}, inplace=True)"
   ]
  },
  {
   "cell_type": "code",
   "execution_count": 41,
   "id": "a722998b",
   "metadata": {},
   "outputs": [],
   "source": [
    "pickupplan_df.to_csv('OCEL_PickupPlan.csv', index = False)"
   ]
  },
  {
   "cell_type": "markdown",
   "id": "bb606f34",
   "metadata": {},
   "source": [
    "#### Object: Cargo"
   ]
  },
  {
   "cell_type": "code",
   "execution_count": 42,
   "id": "071e5a8f",
   "metadata": {},
   "outputs": [],
   "source": [
    "cargo_df = pd.read_csv('object_Cargo.csv')\n",
    "cargo_df = cargo_df['ocel_id;ocel_time;ocel_changed_field;Cargo Type;Cargo stock weight(scheduled);Cargo stock weight(real);Silo ID'].str.split(';', expand=True)\n",
    "cargo_df.columns = ['ocel_id','ocel_time','ocel_changed_field','Cargo Type','Cargo stock weight(scheduled)','Cargo stock weight(real)','Silo ID']\n",
    "cargo_df.rename(columns={'ocel_id': 'object_id', 'ocel_time': 'timestamp'}, inplace=True)"
   ]
  },
  {
   "cell_type": "code",
   "execution_count": 43,
   "id": "6d06e53c",
   "metadata": {},
   "outputs": [],
   "source": [
    "cargo_df.to_csv('OCEL_Cargo.csv', index = False)"
   ]
  },
  {
   "cell_type": "code",
   "execution_count": null,
   "id": "dd84b0fd",
   "metadata": {},
   "outputs": [],
   "source": []
  }
 ],
 "metadata": {
  "kernelspec": {
   "display_name": "Python 3",
   "language": "python",
   "name": "python3"
  },
  "language_info": {
   "codemirror_mode": {
    "name": "ipython",
    "version": 3
   },
   "file_extension": ".py",
   "mimetype": "text/x-python",
   "name": "python",
   "nbconvert_exporter": "python",
   "pygments_lexer": "ipython3",
   "version": "3.8.8"
  },
  "vp": {
   "vp_config_version": "1.0.0",
   "vp_menu_width": 273,
   "vp_note_display": false,
   "vp_note_width": 0,
   "vp_position": {
    "width": 278
   },
   "vp_section_display": false,
   "vp_signature": "VisualPython"
  }
 },
 "nbformat": 4,
 "nbformat_minor": 5
}
