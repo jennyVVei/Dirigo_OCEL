{
 "cells": [
  {
   "cell_type": "markdown",
   "metadata": {},
   "source": [
    "##### Dirigo DB"
   ]
  },
  {
   "cell_type": "code",
   "execution_count": 1,
   "metadata": {},
   "outputs": [
    {
     "name": "stderr",
     "output_type": "stream",
     "text": [
      "c:\\Users\\n9810200\\Anaconda3\\lib\\site-packages\\pandas\\core\\arrays\\masked.py:60: UserWarning: Pandas requires version '1.3.6' or newer of 'bottleneck' (version '1.3.2' currently installed).\n",
      "  from pandas.core import (\n",
      "C:\\Users\\n9810200\\AppData\\Local\\Temp/ipykernel_422940/2923000488.py:1: DeprecationWarning: \n",
      "Pyarrow will become a required dependency of pandas in the next major release of pandas (pandas 3.0),\n",
      "(to allow more performant data types, such as the Arrow string type, and better interoperability with other libraries)\n",
      "but was not found to be installed on your system.\n",
      "If this would cause problems for you,\n",
      "please provide us feedback at https://github.com/pandas-dev/pandas/issues/54466\n",
      "        \n",
      "  import pandas as pd\n"
     ]
    },
    {
     "name": "stdout",
     "output_type": "stream",
     "text": [
      "SQLite has been saved as: ./Databases/Dirigo.sqlite\n"
     ]
    }
   ],
   "source": [
    "import pandas as pd\n",
    "import sqlite3\n",
    "\n",
    "\n",
    "files = {\n",
    "    \"OCEL_O2O\": \"./Dirigo/OCEL_O2O.csv\",\n",
    "    \"OCEL_PickupPlan\": \"./Dirigo/OCEL_PickupPlan.csv\",\n",
    "    \"OCEL_Truck\": \"./Dirigo/OCEL_Truck.csv\",\n",
    "    \"OCEL_Cargo\": \"./Dirigo/OCEL_Cargo.csv\",\n",
    "    \"OCEL_E2O\": \"./Dirigo/OCEL_E2O.csv\",\n",
    "    \"OCEL_Events\": \"./Dirigo/OCEL_Events.csv\"\n",
    "}\n",
    "\n",
    "dataframes = {name: pd.read_csv(path) for name, path in files.items()}\n",
    "\n",
    "\n",
    "sqlite_path = \"./Databases/Dirigo.sqlite\"  \n",
    "conn = sqlite3.connect(sqlite_path)\n",
    "\n",
    "\n",
    "for table_name, df in dataframes.items():\n",
    "    df.to_sql(table_name, conn, if_exists=\"replace\", index=False)\n",
    "\n",
    "conn.close()\n",
    "\n",
    "print(f\"SQLite has been saved as: {sqlite_path}\")\n"
   ]
  },
  {
   "cell_type": "markdown",
   "metadata": {},
   "source": [
    "##### ACEL DB"
   ]
  },
  {
   "cell_type": "code",
   "execution_count": 2,
   "metadata": {},
   "outputs": [
    {
     "name": "stdout",
     "output_type": "stream",
     "text": [
      "SQLite has been saved as: ./Databases/ACEL.sqlite\n"
     ]
    }
   ],
   "source": [
    "files = {\n",
    "    \"ACEL_Events\": \"./ACEL/ACEL_Events.csv\",\n",
    "    \"ACEL_Objects\": \"./ACEL/ACEL_Objects.csv\",\n",
    "    \"ACEL_Relations\": \"./ACEL/ACEL_Relations.csv\"\n",
    "}\n",
    "\n",
    "dataframes = {name: pd.read_csv(path) for name, path in files.items()}\n",
    "\n",
    "\n",
    "sqlite_path = \"./Databases/ACEL.sqlite\"  \n",
    "conn = sqlite3.connect(sqlite_path)\n",
    "\n",
    "\n",
    "for table_name, df in dataframes.items():\n",
    "    df.to_sql(table_name, conn, if_exists=\"replace\", index=False)\n",
    "\n",
    "\n",
    "conn.close()\n",
    "\n",
    "print(f\"SQLite has been saved as: {sqlite_path}\")\n"
   ]
  },
  {
   "cell_type": "markdown",
   "metadata": {},
   "source": [
    "##### DOCEL DB"
   ]
  },
  {
   "cell_type": "code",
   "execution_count": 3,
   "metadata": {},
   "outputs": [
    {
     "name": "stdout",
     "output_type": "stream",
     "text": [
      "DOCEL has been saved as: ./Databases/DOCEL.sqlite\n"
     ]
    }
   ],
   "source": [
    "files = {\n",
    "    \"DOCEL_Truck_Static\": \"./DOCEL/DOCEL_Truck_Static.csv\",\n",
    "    \"DOCEL_Cargo_Static\": \"./DOCEL/DOCEL_Cargo_Static.csv\",\n",
    "    \"DOCEL_Events\": \"./DOCEL/DOCEL_Events.csv\",\n",
    "    \"DOCEL_TruckScheduledPickupWeight\": \"./DOCEL/DOCEL_TruckScheduledPickupWeight.csv\",\n",
    "    \"DOCEL_TruckStatus\": \"./DOCEL/DOCEL_TruckStatus.csv\",\n",
    "    \"DOCEL_TruckWeight\": \"./DOCEL/DOCEL_TruckWeight.csv\",\n",
    "    \"DOCEL_CargoStock\": \"./DOCEL/DOCEL_CargoStock.csv\",\n",
    "    \"DOCEL_PickupplanCargo\": \"./DOCEL/DOCEL_PickupplanCargo.csv\",\n",
    "    \"DOCEL_PickupplanNotrs\": \"./DOCEL/DOCEL_PickupplanNotrs.csv\",\n",
    "    \"DOCEL_PickupplanTotalWeight\": \"./DOCEL/DOCEL_PickupplanTotalWeight.csv\",\n",
    "    \"DOCEL_TruckCargoID\": \"./DOCEL/DOCEL_TruckCargoID.csv\",\n",
    "    \"DOCEL_TruckPickupplanID\": \"./DOCEL/DOCEL_TruckPickupplanID.csv\"\n",
    "}\n",
    "\n",
    "\n",
    "dataframes = {name: pd.read_csv(path) for name, path in files.items()}\n",
    "\n",
    "\n",
    "for name, df in dataframes.items():\n",
    "    if \"Static\" in name:\n",
    "        if \"Truck ID\" in df.columns:\n",
    "            df.rename(columns={\"Truck ID\": \"objectID\"}, inplace=True)\n",
    "        if \"Cargo ID\" in df.columns:\n",
    "            df.rename(columns={\"Cargo ID\": \"objectID\"}, inplace=True)\n",
    "\n",
    "    if name == \"DOCEL_Events\" and \"Event_id\" in df.columns:\n",
    "        df.rename(columns={\"Event_id\": \"eventID\"}, inplace=True)\n",
    "\n",
    "\n",
    "sqlite_path = \"./Databases/DOCEL.sqlite\"\n",
    "conn = sqlite3.connect(sqlite_path)\n",
    "\n",
    "for table_name, df in dataframes.items():\n",
    "    df.to_sql(table_name, conn, if_exists=\"replace\", index=False)\n",
    "\n",
    "conn.close()\n",
    "print(f\"DOCEL has been saved as: {sqlite_path}\")\n"
   ]
  },
  {
   "cell_type": "code",
   "execution_count": null,
   "metadata": {},
   "outputs": [],
   "source": []
  }
 ],
 "metadata": {
  "kernelspec": {
   "display_name": "base",
   "language": "python",
   "name": "python3"
  },
  "language_info": {
   "codemirror_mode": {
    "name": "ipython",
    "version": 3
   },
   "file_extension": ".py",
   "mimetype": "text/x-python",
   "name": "python",
   "nbconvert_exporter": "python",
   "pygments_lexer": "ipython3",
   "version": "3.9.7"
  }
 },
 "nbformat": 4,
 "nbformat_minor": 2
}
