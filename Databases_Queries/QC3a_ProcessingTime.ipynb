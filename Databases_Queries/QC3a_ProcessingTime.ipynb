{
 "cells": [
  {
   "cell_type": "code",
   "execution_count": 1,
   "id": "f1aafc70",
   "metadata": {},
   "outputs": [],
   "source": [
    "import sqlite3\n",
    "import time\n",
    "import statistics"
   ]
  },
  {
   "cell_type": "code",
   "execution_count": 2,
   "id": "49ecf5f1",
   "metadata": {},
   "outputs": [
    {
     "name": "stdout",
     "output_type": "stream",
     "text": [
      "\n",
      "=== Execution Statistics (Dirigo) ===\n",
      "Average execution time: 0.0237 ms\n",
      "Standard deviation: 0.0269 ms\n"
     ]
    }
   ],
   "source": [
    "db_path = 'Dirigo.sqlite'\n",
    "\n",
    "query = '''\n",
    "SELECT Timestamp\n",
    "FROM OCEL_O2O\n",
    "WHERE Source_object_id = 'Pcp53' AND Target_object_id = 'Cr1';\n",
    "'''\n",
    "repeat = 1000\n",
    "\n",
    "conn = sqlite3.connect(db_path)\n",
    "cursor = conn.cursor()\n",
    "\n",
    "\n",
    "durations = []\n",
    "\n",
    "for i in range(repeat):\n",
    "    start_time = time.time()\n",
    "    cursor.execute(query)\n",
    "    cursor.fetchall()  \n",
    "    end_time = time.time()\n",
    "    \n",
    "    duration = (end_time - start_time) * 1000  \n",
    "    durations.append(duration)\n",
    "    # print(f\"Run {i+1}: {duration:.4f} ms\")\n",
    "\n",
    "\n",
    "avg = statistics.mean(durations)\n",
    "std_dev = statistics.stdev(durations)\n",
    "\n",
    "print(\"\\n=== Execution Statistics (Dirigo) ===\")\n",
    "print(f\"Average execution time: {avg:.4f} ms\")\n",
    "print(f\"Standard deviation: {std_dev:.4f} ms\")\n",
    "\n",
    "\n",
    "cursor.close()\n",
    "conn.close()"
   ]
  },
  {
   "cell_type": "code",
   "execution_count": 3,
   "id": "6d0aeb83",
   "metadata": {},
   "outputs": [
    {
     "name": "stdout",
     "output_type": "stream",
     "text": [
      "\n",
      "=== Execution Statistics (ACEL) ===\n",
      "Average execution time: 0.5234 ms\n",
      "Standard deviation: 0.0875 ms\n"
     ]
    }
   ],
   "source": [
    "db_path = 'ACEL.sqlite'\n",
    "\n",
    "query = \"\"\"\n",
    "SELECT Timestamp\n",
    "FROM ACEL_Events\n",
    "WHERE EXISTS (\n",
    "  SELECT 1\n",
    "  FROM json_each(REPLACE(Objects, '''', '\"'))\n",
    "  WHERE json_each.value = 'Pcp53'\n",
    ")\n",
    "AND EXISTS (\n",
    "  SELECT 1\n",
    "  FROM json_each(REPLACE(Objects, '''', '\"'))\n",
    "  WHERE json_each.value = 'Cr1'\n",
    ");\n",
    "\"\"\"\n",
    "\n",
    "repeat = 1000\n",
    "\n",
    "conn = sqlite3.connect(db_path)\n",
    "cursor = conn.cursor()\n",
    "\n",
    "\n",
    "durations = []\n",
    "\n",
    "for i in range(repeat):\n",
    "    start_time = time.time()\n",
    "    cursor.execute(query)\n",
    "    cursor.fetchall()  \n",
    "    end_time = time.time()\n",
    "    \n",
    "    duration = (end_time - start_time) * 1000  \n",
    "    durations.append(duration)\n",
    "    # print(f\"Run {i+1}: {duration:.4f} ms\")\n",
    "\n",
    "\n",
    "avg = statistics.mean(durations)\n",
    "std_dev = statistics.stdev(durations)\n",
    "\n",
    "print(\"\\n=== Execution Statistics (ACEL) ===\")\n",
    "print(f\"Average execution time: {avg:.4f} ms\")\n",
    "print(f\"Standard deviation: {std_dev:.4f} ms\")\n",
    "\n",
    "\n",
    "cursor.close()\n",
    "conn.close()"
   ]
  },
  {
   "cell_type": "code",
   "execution_count": 4,
   "id": "47b5da46",
   "metadata": {},
   "outputs": [
    {
     "name": "stdout",
     "output_type": "stream",
     "text": [
      "\n",
      "=== Execution Statistics (DOCEL) ===\n",
      "Average execution time: 0.0710 ms\n",
      "Standard deviation: 0.0414 ms\n"
     ]
    }
   ],
   "source": [
    "db_path = 'DOCEL.sqlite'\n",
    "\n",
    "query = \"\"\"\n",
    "SELECT Timestamp\n",
    "FROM DOCEL_Events\n",
    "WHERE eventID = (\n",
    "SELECT eventID\n",
    "FROM DOCEL_PickupplanCargo\n",
    "WHERE \"Cargo ID\" = 'Cr1' AND objectID = 'Pcp53');\n",
    "\"\"\"\n",
    "repeat = 1000\n",
    "\n",
    "conn = sqlite3.connect(db_path)\n",
    "cursor = conn.cursor()\n",
    "\n",
    "\n",
    "durations = []\n",
    "\n",
    "for i in range(repeat):\n",
    "    start_time = time.time()\n",
    "    cursor.execute(query)\n",
    "    cursor.fetchall()  \n",
    "    end_time = time.time()\n",
    "    \n",
    "    duration = (end_time - start_time) * 1000  \n",
    "    durations.append(duration)\n",
    "    # print(f\"Run {i+1}: {duration:.4f} ms\")\n",
    "\n",
    "\n",
    "avg = statistics.mean(durations)\n",
    "std_dev = statistics.stdev(durations)\n",
    "\n",
    "print(\"\\n=== Execution Statistics (DOCEL) ===\")\n",
    "print(f\"Average execution time: {avg:.4f} ms\")\n",
    "print(f\"Standard deviation: {std_dev:.4f} ms\")\n",
    "\n",
    "\n",
    "cursor.close()\n",
    "conn.close()"
   ]
  }
 ],
 "metadata": {
  "kernelspec": {
   "display_name": "Python 3",
   "language": "python",
   "name": "python3"
  },
  "language_info": {
   "codemirror_mode": {
    "name": "ipython",
    "version": 3
   },
   "file_extension": ".py",
   "mimetype": "text/x-python",
   "name": "python",
   "nbconvert_exporter": "python",
   "pygments_lexer": "ipython3",
   "version": "3.9.6"
  }
 },
 "nbformat": 4,
 "nbformat_minor": 5
}
