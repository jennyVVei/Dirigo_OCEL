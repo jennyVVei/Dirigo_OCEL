{
 "cells": [
  {
   "cell_type": "code",
   "execution_count": 1,
   "id": "7f17fb7f",
   "metadata": {},
   "outputs": [],
   "source": [
    "import sqlite3\n",
    "import time\n",
    "import statistics"
   ]
  },
  {
   "cell_type": "code",
   "execution_count": 2,
   "id": "09bdec97",
   "metadata": {},
   "outputs": [
    {
     "name": "stdout",
     "output_type": "stream",
     "text": [
      "\n",
      "=== Execution Statistics ===\n",
      "Average execution time: 0.1740 ms\n",
      "Standard deviation: 0.0431 ms\n"
     ]
    }
   ],
   "source": [
    "db_path = 'Dirigo.sqlite'\n",
    "\n",
    "query = '''\n",
    "WITH FirstPickup AS (\n",
    "    SELECT MIN(e.timestamp) AS PickupTimestamp\n",
    "    FROM OCEL_E2O er\n",
    "    JOIN OCEL_Events e ON er.Event_id = e.Event_id\n",
    "    WHERE e.Activity = 'Lodge Pickup Plan'\n",
    "      AND er.object_id = 'Cr1'\n",
    ")\n",
    "SELECT \"Cargo stock weight(scheduled)\"\n",
    "FROM OCEL_Cargo\n",
    "WHERE object_id = 'Cr1'\n",
    "  AND timestamp < (SELECT PickupTimestamp FROM FirstPickup)\n",
    "  AND timestamp = (\n",
    "    SELECT MAX(timestamp)\n",
    "    FROM OCEL_Cargo\n",
    "    WHERE object_id = 'Cr1'\n",
    "      AND timestamp < (SELECT PickupTimestamp FROM FirstPickup)\n",
    ");\n",
    "'''\n",
    "repeat = 1000\n",
    "\n",
    "conn = sqlite3.connect(db_path)\n",
    "cursor = conn.cursor()\n",
    "\n",
    "\n",
    "durations = []\n",
    "\n",
    "for i in range(repeat):\n",
    "    start_time = time.time()\n",
    "    cursor.execute(query)\n",
    "    cursor.fetchall()  \n",
    "    end_time = time.time()\n",
    "    \n",
    "    duration = (end_time - start_time) * 1000  \n",
    "    durations.append(duration)\n",
    "    # print(f\"Run {i+1}: {duration:.4f} ms\")\n",
    "\n",
    "\n",
    "avg = statistics.mean(durations)\n",
    "std_dev = statistics.stdev(durations)\n",
    "\n",
    "print(\"\\n=== Execution Statistics ===\")\n",
    "print(f\"Average execution time: {avg:.4f} ms\")\n",
    "print(f\"Standard deviation: {std_dev:.4f} ms\")\n",
    "\n",
    "\n",
    "cursor.close()\n",
    "conn.close()"
   ]
  },
  {
   "cell_type": "code",
   "execution_count": null,
   "id": "8541f60b",
   "metadata": {},
   "outputs": [],
   "source": []
  }
 ],
 "metadata": {
  "kernelspec": {
   "display_name": "Python 3",
   "language": "python",
   "name": "python3"
  },
  "language_info": {
   "codemirror_mode": {
    "name": "ipython",
    "version": 3
   },
   "file_extension": ".py",
   "mimetype": "text/x-python",
   "name": "python",
   "nbconvert_exporter": "python",
   "pygments_lexer": "ipython3",
   "version": "3.9.6"
  }
 },
 "nbformat": 4,
 "nbformat_minor": 5
}
