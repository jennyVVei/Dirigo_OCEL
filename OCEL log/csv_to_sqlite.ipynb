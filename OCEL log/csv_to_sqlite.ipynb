{
 "cells": [
  {
   "cell_type": "code",
   "execution_count": 1,
   "id": "42feb738",
   "metadata": {},
   "outputs": [],
   "source": [
    "import pandas as pd\n",
    "import sqlite3\n",
    "import glob\n",
    "import os"
   ]
  },
  {
   "cell_type": "code",
   "execution_count": 2,
   "id": "9f115d4a",
   "metadata": {},
   "outputs": [],
   "source": [
    "eventTypeTableFilenames = [fn for fn in glob.glob('event_*.csv') \n",
    "                           if not fn == \"event_map_type.csv\" and not fn == \"event_object.csv\"]\n",
    "objectTypeTableFilenames =  [fn for fn in glob.glob('object_*.csv') \n",
    "                             if not fn == \"object_map_type.csv\" and not fn == \"object_object.csv\"]\n",
    "\n",
    "TABLES = dict()\n",
    "\n",
    "TABLES[\"event\"] = pd.read_csv(\"event.csv\", sep=\";\")\n",
    "TABLES[\"event_map_type\"] = pd.read_csv(\"event_map_type.csv\", sep=\";\")\n",
    "TABLES[\"event_object\"] = pd.read_csv(\"event_object.csv\", sep=\";\")\n",
    "TABLES[\"object\"] = pd.read_csv(\"object.csv\", sep=\";\")\n",
    "TABLES[\"object_object\"] = pd.read_csv(\"object_object.csv\", sep=\";\")\n",
    "TABLES[\"object_map_type\"] = pd.read_csv(\"object_map_type.csv\", sep=\";\")\n",
    "\n",
    "for fn in eventTypeTableFilenames:\n",
    "    table_name = fn.split(\".\")[0]\n",
    "    table = pd.read_csv(fn, sep=\";\")\n",
    "    TABLES[table_name] = table\n",
    "    \n",
    "for fn in objectTypeTableFilenames:\n",
    "    table_name = fn.split(\".\")[0]\n",
    "    table = pd.read_csv(fn, sep=\";\")\n",
    "    TABLES[table_name] = table"
   ]
  },
  {
   "cell_type": "code",
   "execution_count": 3,
   "id": "35bf26ce",
   "metadata": {},
   "outputs": [],
   "source": [
    "sql_path = \"CargoPickup.sqlite\"\n",
    "if os.path.exists(sql_path):\n",
    "    os.remove(sql_path)"
   ]
  },
  {
   "cell_type": "code",
   "execution_count": 4,
   "id": "97da7f03",
   "metadata": {},
   "outputs": [
    {
     "name": "stderr",
     "output_type": "stream",
     "text": [
      "/opt/anaconda3/lib/python3.8/site-packages/pandas/core/generic.py:2779: UserWarning: The spaces in these column names will not be changed. In pandas versions < 0.14, spaces were converted to underscores.\n",
      "  sql.to_sql(\n"
     ]
    }
   ],
   "source": [
    "conn = sqlite3.connect(sql_path)\n",
    "for tn, df in TABLES.items():\n",
    "    df.to_sql(tn, conn, index=False)\n",
    "conn.close()"
   ]
  },
  {
   "cell_type": "code",
   "execution_count": 5,
   "id": "e394ff67",
   "metadata": {},
   "outputs": [],
   "source": [
    "# Connect to your SQLite database\n",
    "conn = sqlite3.connect(\"CargoPickup.sqlite\")\n",
    "cursor = conn.cursor()\n",
    "\n",
    "# Create a new table without duplicates\n",
    "cursor.execute('''CREATE TABLE IF NOT EXISTS object_object_no_duplicates AS\n",
    "                  SELECT DISTINCT * FROM object_object''')\n",
    "\n",
    "# Drop the original table\n",
    "cursor.execute('DROP TABLE IF EXISTS object_object')\n",
    "\n",
    "# Rename the new table to the original table name\n",
    "cursor.execute('ALTER TABLE object_object_no_duplicates RENAME TO object_object')\n",
    "\n",
    "# Commit changes and close the connection\n",
    "conn.commit()\n",
    "conn.close()"
   ]
  },
  {
   "cell_type": "code",
   "execution_count": 6,
   "id": "197caf96",
   "metadata": {
    "scrolled": false
   },
   "outputs": [
    {
     "name": "stderr",
     "output_type": "stream",
     "text": [
      "/opt/anaconda3/lib/python3.8/site-packages/pm4py/objects/ocel/importer/sqlite/variants/ocel20.py:70: UserWarning: There are unsatisfied OCEL 2.0 constraints in the given relational database: ['const_14_primary_key_object_event_map_type_tables', 'const_15_primary_key_object_event_tables', 'const_16_primary_key_event_object_table', 'const_17_primary_key_object_object_table', 'const_18_primary_key_event_type_spec_tables', 'const_19_foreign_key_event', 'const_20_foreign_key_object', 'const_21_foreign_key_event_object', 'const_22_foreign_key_object_object', 'const_23_foreign_key_event_type_specific', 'const_24_foreign_key_object_type_specific']\n",
      "  warnings.warn(\"There are unsatisfied OCEL 2.0 constraints in the given relational database: \"+str(unsatisfied))\n",
      "/opt/anaconda3/lib/python3.8/site-packages/pm4py/objects/ocel/importer/sqlite/variants/ocel20.py:164: SettingWithCopyWarning: \n",
      "A value is trying to be set on a copy of a slice from a DataFrame.\n",
      "Try using .loc[row_indexer,col_indexer] = value instead\n",
      "\n",
      "See the caveats in the documentation: https://pandas.pydata.org/pandas-docs/stable/user_guide/indexing.html#returning-a-view-versus-a-copy\n",
      "  object_changes[internal_index] = object_changes.index\n"
     ]
    },
    {
     "data": {
      "text/plain": [
       "Object-Centric Event Log (number of events: 1892, number of objects: 250, number of activities: 8, number of object types: 3, events-objects relationships: 1992)\n",
       "Activities occurrences: {'Weigh the Empty Truck': 256, 'Weigh the Loaded Truck': 256, 'Input the Tally Sheet': 256, 'Evaluate the Truck Exit': 256, 'Load Truck': 256, 'Assign Trucks': 256, 'Print the Weighing Ticket': 256, 'Lodge Pickup Plan': 100}\n",
       "Object types occurrences (number of objects): {'Cargo': 100, 'Pickup Plan': 100, 'Truck': 50}\n",
       "Please use <THIS>.get_extended_table() to get a dataframe representation of the events related to the objects."
      ]
     },
     "execution_count": 6,
     "metadata": {},
     "output_type": "execute_result"
    }
   ],
   "source": [
    "import pm4py\n",
    "\n",
    "ocel = pm4py.read_ocel2_sqlite(\"CargoPickup.sqlite\")\n",
    "ocel"
   ]
  },
  {
   "cell_type": "code",
   "execution_count": null,
   "id": "ac652e13",
   "metadata": {},
   "outputs": [],
   "source": []
  }
 ],
 "metadata": {
  "kernelspec": {
   "display_name": "Python 3",
   "language": "python",
   "name": "python3"
  },
  "language_info": {
   "codemirror_mode": {
    "name": "ipython",
    "version": 3
   },
   "file_extension": ".py",
   "mimetype": "text/x-python",
   "name": "python",
   "nbconvert_exporter": "python",
   "pygments_lexer": "ipython3",
   "version": "3.8.8"
  },
  "vp": {
   "vp_config_version": "1.0.0",
   "vp_menu_width": 273,
   "vp_note_display": false,
   "vp_note_width": 0,
   "vp_position": {
    "width": 278
   },
   "vp_section_display": true,
   "vp_signature": "VisualPython"
  }
 },
 "nbformat": 4,
 "nbformat_minor": 5
}
