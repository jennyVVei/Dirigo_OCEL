{
 "cells": [
  {
   "cell_type": "code",
   "execution_count": 1,
   "id": "92d1e918",
   "metadata": {},
   "outputs": [],
   "source": [
    "import pandas as pd"
   ]
  },
  {
   "cell_type": "markdown",
   "id": "f935ff26",
   "metadata": {},
   "source": [
    "#### Event: AssignTrucks"
   ]
  },
  {
   "cell_type": "code",
   "execution_count": 2,
   "id": "5fc9ddb2",
   "metadata": {},
   "outputs": [],
   "source": [
    "event1_df = pd.read_csv('event_AssignTrucks.csv')\n",
    "event1_df = event1_df['ocel_id;ocel_time'].str.split(';', expand=True)\n",
    "event1_df.columns = ['ocel_id', 'ocel_time']"
   ]
  },
  {
   "cell_type": "code",
   "execution_count": 3,
   "id": "bf70fdb7",
   "metadata": {},
   "outputs": [
    {
     "data": {
      "text/html": [
       "<div>\n",
       "<style scoped>\n",
       "    .dataframe tbody tr th:only-of-type {\n",
       "        vertical-align: middle;\n",
       "    }\n",
       "\n",
       "    .dataframe tbody tr th {\n",
       "        vertical-align: top;\n",
       "    }\n",
       "\n",
       "    .dataframe thead th {\n",
       "        text-align: right;\n",
       "    }\n",
       "</style>\n",
       "<table border=\"1\" class=\"dataframe\">\n",
       "  <thead>\n",
       "    <tr style=\"text-align: right;\">\n",
       "      <th></th>\n",
       "      <th>ocel_id</th>\n",
       "      <th>ocel_time</th>\n",
       "    </tr>\n",
       "  </thead>\n",
       "  <tbody>\n",
       "    <tr>\n",
       "      <th>0</th>\n",
       "      <td>assign_trs_Pcp7</td>\n",
       "      <td>2024-05-01 09:39:03</td>\n",
       "    </tr>\n",
       "    <tr>\n",
       "      <th>1</th>\n",
       "      <td>assign_trs_Pcp7</td>\n",
       "      <td>2024-05-01 09:45:02</td>\n",
       "    </tr>\n",
       "    <tr>\n",
       "      <th>2</th>\n",
       "      <td>assign_trs_Pcp7</td>\n",
       "      <td>2024-05-01 09:45:49</td>\n",
       "    </tr>\n",
       "    <tr>\n",
       "      <th>3</th>\n",
       "      <td>assign_trs_Pcp7</td>\n",
       "      <td>2024-05-01 09:50:43</td>\n",
       "    </tr>\n",
       "    <tr>\n",
       "      <th>4</th>\n",
       "      <td>assign_trs_Pcp7</td>\n",
       "      <td>2024-05-01 09:51:14</td>\n",
       "    </tr>\n",
       "  </tbody>\n",
       "</table>\n",
       "</div>"
      ],
      "text/plain": [
       "           ocel_id            ocel_time\n",
       "0  assign_trs_Pcp7  2024-05-01 09:39:03\n",
       "1  assign_trs_Pcp7  2024-05-01 09:45:02\n",
       "2  assign_trs_Pcp7  2024-05-01 09:45:49\n",
       "3  assign_trs_Pcp7  2024-05-01 09:50:43\n",
       "4  assign_trs_Pcp7  2024-05-01 09:51:14"
      ]
     },
     "execution_count": 3,
     "metadata": {},
     "output_type": "execute_result"
    }
   ],
   "source": [
    "event1_df.head()"
   ]
  },
  {
   "cell_type": "code",
   "execution_count": 4,
   "id": "a44ace90",
   "metadata": {},
   "outputs": [
    {
     "data": {
      "text/plain": [
       "390"
      ]
     },
     "execution_count": 4,
     "metadata": {},
     "output_type": "execute_result"
    }
   ],
   "source": [
    "len(event1_df)"
   ]
  },
  {
   "cell_type": "code",
   "execution_count": 5,
   "id": "16a643cc",
   "metadata": {},
   "outputs": [],
   "source": [
    "# drop dupicates in the event1 \n",
    "event1_df2 = event1_df.drop_duplicates()"
   ]
  },
  {
   "cell_type": "code",
   "execution_count": 6,
   "id": "87c5d2ea",
   "metadata": {},
   "outputs": [
    {
     "data": {
      "text/plain": [
       "390"
      ]
     },
     "execution_count": 6,
     "metadata": {},
     "output_type": "execute_result"
    }
   ],
   "source": [
    "len(event1_df2)"
   ]
  },
  {
   "cell_type": "code",
   "execution_count": 7,
   "id": "17780e82",
   "metadata": {},
   "outputs": [
    {
     "data": {
      "text/html": [
       "<div>\n",
       "<style scoped>\n",
       "    .dataframe tbody tr th:only-of-type {\n",
       "        vertical-align: middle;\n",
       "    }\n",
       "\n",
       "    .dataframe tbody tr th {\n",
       "        vertical-align: top;\n",
       "    }\n",
       "\n",
       "    .dataframe thead th {\n",
       "        text-align: right;\n",
       "    }\n",
       "</style>\n",
       "<table border=\"1\" class=\"dataframe\">\n",
       "  <thead>\n",
       "    <tr style=\"text-align: right;\">\n",
       "      <th></th>\n",
       "      <th>ocel_id</th>\n",
       "      <th>ocel_time</th>\n",
       "    </tr>\n",
       "  </thead>\n",
       "  <tbody>\n",
       "    <tr>\n",
       "      <th>0</th>\n",
       "      <td>assign_trs_Pcp7</td>\n",
       "      <td>2024-05-01 09:39:03</td>\n",
       "    </tr>\n",
       "    <tr>\n",
       "      <th>1</th>\n",
       "      <td>assign_trs_Pcp7</td>\n",
       "      <td>2024-05-01 09:45:02</td>\n",
       "    </tr>\n",
       "    <tr>\n",
       "      <th>2</th>\n",
       "      <td>assign_trs_Pcp7</td>\n",
       "      <td>2024-05-01 09:45:49</td>\n",
       "    </tr>\n",
       "    <tr>\n",
       "      <th>3</th>\n",
       "      <td>assign_trs_Pcp7</td>\n",
       "      <td>2024-05-01 09:50:43</td>\n",
       "    </tr>\n",
       "    <tr>\n",
       "      <th>4</th>\n",
       "      <td>assign_trs_Pcp7</td>\n",
       "      <td>2024-05-01 09:51:14</td>\n",
       "    </tr>\n",
       "  </tbody>\n",
       "</table>\n",
       "</div>"
      ],
      "text/plain": [
       "           ocel_id            ocel_time\n",
       "0  assign_trs_Pcp7  2024-05-01 09:39:03\n",
       "1  assign_trs_Pcp7  2024-05-01 09:45:02\n",
       "2  assign_trs_Pcp7  2024-05-01 09:45:49\n",
       "3  assign_trs_Pcp7  2024-05-01 09:50:43\n",
       "4  assign_trs_Pcp7  2024-05-01 09:51:14"
      ]
     },
     "execution_count": 7,
     "metadata": {},
     "output_type": "execute_result"
    }
   ],
   "source": [
    "event1_df2.head()"
   ]
  },
  {
   "cell_type": "markdown",
   "id": "a8fccecd",
   "metadata": {},
   "source": [
    "#### Event: EvaluateTruckExit"
   ]
  },
  {
   "cell_type": "code",
   "execution_count": 8,
   "id": "278eba46",
   "metadata": {},
   "outputs": [
    {
     "data": {
      "text/plain": [
       "390"
      ]
     },
     "execution_count": 8,
     "metadata": {},
     "output_type": "execute_result"
    }
   ],
   "source": [
    "event2_df = pd.read_csv('event_EvaluateTruckExit.csv')\n",
    "event2_df = event2_df['ocel_id;ocel_time'].str.split(';', expand=True)\n",
    "event2_df.columns = ['ocel_id', 'ocel_time']\n",
    "len(event2_df)"
   ]
  },
  {
   "cell_type": "code",
   "execution_count": 9,
   "id": "46f127fd",
   "metadata": {},
   "outputs": [
    {
     "data": {
      "text/plain": [
       "390"
      ]
     },
     "execution_count": 9,
     "metadata": {},
     "output_type": "execute_result"
    }
   ],
   "source": [
    "event2_df2 = event2_df.drop_duplicates()\n",
    "len(event2_df2)"
   ]
  },
  {
   "cell_type": "markdown",
   "id": "ab7aa9c2",
   "metadata": {},
   "source": [
    "#### Event: InputTallySheet"
   ]
  },
  {
   "cell_type": "code",
   "execution_count": 10,
   "id": "86cdfb02",
   "metadata": {},
   "outputs": [
    {
     "data": {
      "text/plain": [
       "390"
      ]
     },
     "execution_count": 10,
     "metadata": {},
     "output_type": "execute_result"
    }
   ],
   "source": [
    "event3_df = pd.read_csv('event_InputTallySheet.csv')\n",
    "event3_df = event3_df['ocel_id;ocel_time'].str.split(';', expand=True)\n",
    "event3_df.columns = ['ocel_id', 'ocel_time']\n",
    "len(event3_df)"
   ]
  },
  {
   "cell_type": "code",
   "execution_count": 11,
   "id": "96ae1090",
   "metadata": {},
   "outputs": [
    {
     "data": {
      "text/plain": [
       "390"
      ]
     },
     "execution_count": 11,
     "metadata": {},
     "output_type": "execute_result"
    }
   ],
   "source": [
    "event3_df2 = event3_df.drop_duplicates()\n",
    "len(event3_df2)"
   ]
  },
  {
   "cell_type": "markdown",
   "id": "58e1c439",
   "metadata": {},
   "source": [
    "#### Event: LoadTruck"
   ]
  },
  {
   "cell_type": "code",
   "execution_count": 12,
   "id": "52dc77e4",
   "metadata": {},
   "outputs": [
    {
     "data": {
      "text/plain": [
       "390"
      ]
     },
     "execution_count": 12,
     "metadata": {},
     "output_type": "execute_result"
    }
   ],
   "source": [
    "event4_df = pd.read_csv('event_LoadTruck.csv')\n",
    "event4_df = event4_df['ocel_id;ocel_time'].str.split(';', expand=True)\n",
    "event4_df.columns = ['ocel_id', 'ocel_time']\n",
    "len(event4_df)"
   ]
  },
  {
   "cell_type": "code",
   "execution_count": 13,
   "id": "f3880ae3",
   "metadata": {},
   "outputs": [
    {
     "data": {
      "text/plain": [
       "390"
      ]
     },
     "execution_count": 13,
     "metadata": {},
     "output_type": "execute_result"
    }
   ],
   "source": [
    "event4_df2 = event4_df.drop_duplicates()\n",
    "len(event4_df2)"
   ]
  },
  {
   "cell_type": "markdown",
   "id": "668ca1ca",
   "metadata": {},
   "source": [
    "#### Event: PrintWeighingTicket"
   ]
  },
  {
   "cell_type": "code",
   "execution_count": 14,
   "id": "abf7c22e",
   "metadata": {},
   "outputs": [
    {
     "data": {
      "text/plain": [
       "390"
      ]
     },
     "execution_count": 14,
     "metadata": {},
     "output_type": "execute_result"
    }
   ],
   "source": [
    "event5_df = pd.read_csv('event_PrintWeighingTicket.csv')\n",
    "event5_df = event5_df['ocel_id;ocel_time'].str.split(';', expand=True)\n",
    "event5_df.columns = ['ocel_id', 'ocel_time']\n",
    "len(event5_df)"
   ]
  },
  {
   "cell_type": "code",
   "execution_count": 15,
   "id": "c9e4a464",
   "metadata": {},
   "outputs": [
    {
     "data": {
      "text/plain": [
       "390"
      ]
     },
     "execution_count": 15,
     "metadata": {},
     "output_type": "execute_result"
    }
   ],
   "source": [
    "event5_df2 = event5_df.drop_duplicates()\n",
    "len(event5_df2)"
   ]
  },
  {
   "cell_type": "markdown",
   "id": "c0975e08",
   "metadata": {},
   "source": [
    "#### Event: WeighEmptyTruck"
   ]
  },
  {
   "cell_type": "code",
   "execution_count": 16,
   "id": "9a873ac4",
   "metadata": {},
   "outputs": [
    {
     "data": {
      "text/plain": [
       "390"
      ]
     },
     "execution_count": 16,
     "metadata": {},
     "output_type": "execute_result"
    }
   ],
   "source": [
    "event6_df = pd.read_csv('event_WeighEmptyTruck.csv')\n",
    "event6_df = event6_df['ocel_id;ocel_time'].str.split(';', expand=True)\n",
    "event6_df.columns = ['ocel_id', 'ocel_time']\n",
    "len(event6_df)"
   ]
  },
  {
   "cell_type": "code",
   "execution_count": 17,
   "id": "f1aa8355",
   "metadata": {},
   "outputs": [
    {
     "data": {
      "text/plain": [
       "390"
      ]
     },
     "execution_count": 17,
     "metadata": {},
     "output_type": "execute_result"
    }
   ],
   "source": [
    "event6_df2 = event6_df.drop_duplicates()\n",
    "len(event6_df2)"
   ]
  },
  {
   "cell_type": "markdown",
   "id": "ce7d7d23",
   "metadata": {},
   "source": [
    "#### Event: WeighLoadedTruck"
   ]
  },
  {
   "cell_type": "code",
   "execution_count": 18,
   "id": "46160fad",
   "metadata": {},
   "outputs": [
    {
     "data": {
      "text/plain": [
       "390"
      ]
     },
     "execution_count": 18,
     "metadata": {},
     "output_type": "execute_result"
    }
   ],
   "source": [
    "event7_df = pd.read_csv('event_WeighLoadedTruck.csv')\n",
    "event7_df = event7_df['ocel_id;ocel_time'].str.split(';', expand=True)\n",
    "event7_df.columns = ['ocel_id', 'ocel_time']\n",
    "len(event7_df)"
   ]
  },
  {
   "cell_type": "code",
   "execution_count": 19,
   "id": "8dd7e437",
   "metadata": {},
   "outputs": [
    {
     "data": {
      "text/plain": [
       "390"
      ]
     },
     "execution_count": 19,
     "metadata": {},
     "output_type": "execute_result"
    }
   ],
   "source": [
    "event7_df2 = event7_df.drop_duplicates()\n",
    "len(event7_df2)"
   ]
  },
  {
   "cell_type": "markdown",
   "id": "db6d9c95",
   "metadata": {},
   "source": [
    "#### Event: LodegePickupPlan"
   ]
  },
  {
   "cell_type": "code",
   "execution_count": 20,
   "id": "a5f080fd",
   "metadata": {},
   "outputs": [
    {
     "data": {
      "text/plain": [
       "8"
      ]
     },
     "execution_count": 20,
     "metadata": {},
     "output_type": "execute_result"
    }
   ],
   "source": [
    "event8_df = pd.read_csv('event_LodgePickupPlan.csv')\n",
    "event8_df = event8_df['ocel_id;ocel_time'].str.split(';', expand=True)\n",
    "event8_df.columns = ['ocel_id', 'ocel_time']\n",
    "len(event8_df)"
   ]
  },
  {
   "cell_type": "code",
   "execution_count": 21,
   "id": "6c68e428",
   "metadata": {
    "scrolled": true
   },
   "outputs": [
    {
     "data": {
      "text/plain": [
       "8"
      ]
     },
     "execution_count": 21,
     "metadata": {},
     "output_type": "execute_result"
    }
   ],
   "source": [
    "event8_df2 = event8_df.drop_duplicates()\n",
    "len(event8_df2)"
   ]
  },
  {
   "cell_type": "markdown",
   "id": "015538e9",
   "metadata": {},
   "source": [
    "#### Concatenates all event tables"
   ]
  },
  {
   "cell_type": "code",
   "execution_count": 22,
   "id": "9835bdcf",
   "metadata": {},
   "outputs": [],
   "source": [
    "combined_events = pd.concat([event1_df2, event2_df2, event3_df2, event4_df2, event5_df2, event6_df2, event7_df2, event8_df2])"
   ]
  },
  {
   "cell_type": "code",
   "execution_count": 23,
   "id": "dcd2f545",
   "metadata": {},
   "outputs": [],
   "source": [
    "sorted_events = combined_events.sort_values(by='ocel_time')"
   ]
  },
  {
   "cell_type": "markdown",
   "id": "b99686d0",
   "metadata": {},
   "source": [
    "#### Event table"
   ]
  },
  {
   "cell_type": "code",
   "execution_count": 24,
   "id": "7f344ff5",
   "metadata": {},
   "outputs": [
    {
     "name": "stdout",
     "output_type": "stream",
     "text": [
      "      ocel_id          ocel_type\n",
      "0  Lodge_Pcp7  Lodge Pickup Plan\n",
      "1  Lodge_Pcp1  Lodge Pickup Plan\n",
      "2  Lodge_Pcp2  Lodge Pickup Plan\n",
      "3  Lodge_Pcp5  Lodge Pickup Plan\n",
      "4  Lodge_Pcp4  Lodge Pickup Plan\n"
     ]
    }
   ],
   "source": [
    "event_df = pd.read_csv('event.csv')\n",
    "event_df = event_df['ocel_id;ocel_type'].str.split(';', expand=True)\n",
    "event_df.columns = ['ocel_id','ocel_type']\n",
    "print(event_df.head())"
   ]
  },
  {
   "cell_type": "code",
   "execution_count": 25,
   "id": "4a7769c0",
   "metadata": {},
   "outputs": [],
   "source": [
    "events = pd.merge(sorted_events, event_df, on='ocel_id', how='inner')"
   ]
  },
  {
   "cell_type": "code",
   "execution_count": 26,
   "id": "f675fc5f",
   "metadata": {
    "scrolled": false
   },
   "outputs": [],
   "source": [
    "events_distinct = events.drop_duplicates()"
   ]
  },
  {
   "cell_type": "code",
   "execution_count": 27,
   "id": "5d1665da",
   "metadata": {},
   "outputs": [
    {
     "name": "stderr",
     "output_type": "stream",
     "text": [
      "C:\\Users\\n9810200\\AppData\\Local\\Temp/ipykernel_87372/2833452285.py:1: SettingWithCopyWarning: \n",
      "A value is trying to be set on a copy of a slice from a DataFrame\n",
      "\n",
      "See the caveats in the documentation: https://pandas.pydata.org/pandas-docs/stable/user_guide/indexing.html#returning-a-view-versus-a-copy\n",
      "  events_distinct.rename(columns={'ocel_id': 'event_id', 'ocel_type': 'activity', 'ocel_time': 'timestamp'}, inplace=True)\n"
     ]
    }
   ],
   "source": [
    "events_distinct.rename(columns={'ocel_id': 'event_id', 'ocel_type': 'activity', 'ocel_time': 'timestamp'}, inplace=True)"
   ]
  },
  {
   "cell_type": "code",
   "execution_count": 28,
   "id": "2e8c9c71",
   "metadata": {},
   "outputs": [
    {
     "data": {
      "text/html": [
       "<div>\n",
       "<style scoped>\n",
       "    .dataframe tbody tr th:only-of-type {\n",
       "        vertical-align: middle;\n",
       "    }\n",
       "\n",
       "    .dataframe tbody tr th {\n",
       "        vertical-align: top;\n",
       "    }\n",
       "\n",
       "    .dataframe thead th {\n",
       "        text-align: right;\n",
       "    }\n",
       "</style>\n",
       "<table border=\"1\" class=\"dataframe\">\n",
       "  <thead>\n",
       "    <tr style=\"text-align: right;\">\n",
       "      <th></th>\n",
       "      <th>event_id</th>\n",
       "      <th>timestamp</th>\n",
       "      <th>activity</th>\n",
       "    </tr>\n",
       "  </thead>\n",
       "  <tbody>\n",
       "    <tr>\n",
       "      <th>0</th>\n",
       "      <td>Lodge_Pcp7</td>\n",
       "      <td>2024-04-29 08:12:32</td>\n",
       "      <td>Lodge Pickup Plan</td>\n",
       "    </tr>\n",
       "    <tr>\n",
       "      <th>1</th>\n",
       "      <td>Lodge_Pcp1</td>\n",
       "      <td>2024-04-29 08:39:46</td>\n",
       "      <td>Lodge Pickup Plan</td>\n",
       "    </tr>\n",
       "    <tr>\n",
       "      <th>2</th>\n",
       "      <td>Lodge_Pcp2</td>\n",
       "      <td>2024-04-29 08:46:20</td>\n",
       "      <td>Lodge Pickup Plan</td>\n",
       "    </tr>\n",
       "    <tr>\n",
       "      <th>3</th>\n",
       "      <td>Lodge_Pcp5</td>\n",
       "      <td>2024-04-29 09:07:13</td>\n",
       "      <td>Lodge Pickup Plan</td>\n",
       "    </tr>\n",
       "    <tr>\n",
       "      <th>4</th>\n",
       "      <td>Lodge_Pcp4</td>\n",
       "      <td>2024-04-29 09:07:35</td>\n",
       "      <td>Lodge Pickup Plan</td>\n",
       "    </tr>\n",
       "    <tr>\n",
       "      <th>...</th>\n",
       "      <td>...</td>\n",
       "      <td>...</td>\n",
       "      <td>...</td>\n",
       "    </tr>\n",
       "    <tr>\n",
       "      <th>36422</th>\n",
       "      <td>input_tally_sheettr19</td>\n",
       "      <td>2024-06-07 15:40:08</td>\n",
       "      <td>Input the Tally Sheet</td>\n",
       "    </tr>\n",
       "    <tr>\n",
       "      <th>36430</th>\n",
       "      <td>eval_trs_exittr19_Pcp4</td>\n",
       "      <td>2024-06-07 16:48:29</td>\n",
       "      <td>Evaluate the Truck Exit</td>\n",
       "    </tr>\n",
       "    <tr>\n",
       "      <th>36431</th>\n",
       "      <td>input_tally_sheettr9</td>\n",
       "      <td>2024-06-07 17:48:52</td>\n",
       "      <td>Input the Tally Sheet</td>\n",
       "    </tr>\n",
       "    <tr>\n",
       "      <th>36439</th>\n",
       "      <td>print_w_tickettr9</td>\n",
       "      <td>2024-06-07 17:48:52</td>\n",
       "      <td>Print the Weighing Ticket</td>\n",
       "    </tr>\n",
       "    <tr>\n",
       "      <th>36447</th>\n",
       "      <td>eval_trs_exittr9_Pcp4</td>\n",
       "      <td>2024-06-10 08:30:10</td>\n",
       "      <td>Evaluate the Truck Exit</td>\n",
       "    </tr>\n",
       "  </tbody>\n",
       "</table>\n",
       "<p>2738 rows × 3 columns</p>\n",
       "</div>"
      ],
      "text/plain": [
       "                     event_id            timestamp                   activity\n",
       "0                  Lodge_Pcp7  2024-04-29 08:12:32          Lodge Pickup Plan\n",
       "1                  Lodge_Pcp1  2024-04-29 08:39:46          Lodge Pickup Plan\n",
       "2                  Lodge_Pcp2  2024-04-29 08:46:20          Lodge Pickup Plan\n",
       "3                  Lodge_Pcp5  2024-04-29 09:07:13          Lodge Pickup Plan\n",
       "4                  Lodge_Pcp4  2024-04-29 09:07:35          Lodge Pickup Plan\n",
       "...                       ...                  ...                        ...\n",
       "36422   input_tally_sheettr19  2024-06-07 15:40:08      Input the Tally Sheet\n",
       "36430  eval_trs_exittr19_Pcp4  2024-06-07 16:48:29    Evaluate the Truck Exit\n",
       "36431    input_tally_sheettr9  2024-06-07 17:48:52      Input the Tally Sheet\n",
       "36439       print_w_tickettr9  2024-06-07 17:48:52  Print the Weighing Ticket\n",
       "36447   eval_trs_exittr9_Pcp4  2024-06-10 08:30:10    Evaluate the Truck Exit\n",
       "\n",
       "[2738 rows x 3 columns]"
      ]
     },
     "execution_count": 28,
     "metadata": {},
     "output_type": "execute_result"
    }
   ],
   "source": [
    "events_distinct"
   ]
  },
  {
   "cell_type": "code",
   "execution_count": 29,
   "id": "7d3c25f3",
   "metadata": {},
   "outputs": [],
   "source": [
    "events_distinct.to_csv('OCEL_Events.csv', index = False)"
   ]
  },
  {
   "cell_type": "markdown",
   "id": "2088383c",
   "metadata": {},
   "source": [
    "#### Event-to-Object relationships"
   ]
  },
  {
   "cell_type": "code",
   "execution_count": 30,
   "id": "ac012716",
   "metadata": {},
   "outputs": [],
   "source": [
    "e2o_df = pd.read_csv('event_object.csv')\n",
    "e2o_df = e2o_df['ocel_event_id;ocel_object_id;ocel_qualifier'].str.split(';', expand=True)\n",
    "e2o_df.columns = ['ocel_event_id', 'ocel_object_id', 'ocel_qualifier']\n",
    "e2o_df.rename(columns={'ocel_event_id': 'event_id', 'ocel_object_id': 'object_id', 'ocel_qualifier': 'e2o_qualifier'}, inplace=True)"
   ]
  },
  {
   "cell_type": "code",
   "execution_count": 31,
   "id": "69594b8b",
   "metadata": {},
   "outputs": [
    {
     "data": {
      "text/html": [
       "<div>\n",
       "<style scoped>\n",
       "    .dataframe tbody tr th:only-of-type {\n",
       "        vertical-align: middle;\n",
       "    }\n",
       "\n",
       "    .dataframe tbody tr th {\n",
       "        vertical-align: top;\n",
       "    }\n",
       "\n",
       "    .dataframe thead th {\n",
       "        text-align: right;\n",
       "    }\n",
       "</style>\n",
       "<table border=\"1\" class=\"dataframe\">\n",
       "  <thead>\n",
       "    <tr style=\"text-align: right;\">\n",
       "      <th></th>\n",
       "      <th>event_id</th>\n",
       "      <th>object_id</th>\n",
       "      <th>e2o_qualifier</th>\n",
       "    </tr>\n",
       "  </thead>\n",
       "  <tbody>\n",
       "    <tr>\n",
       "      <th>0</th>\n",
       "      <td>Lodge_Pcp7</td>\n",
       "      <td>Pcp7</td>\n",
       "      <td>lodged pickup plan</td>\n",
       "    </tr>\n",
       "    <tr>\n",
       "      <th>1</th>\n",
       "      <td>Lodge_Pcp7</td>\n",
       "      <td>Cr17</td>\n",
       "      <td>cargo scheduled to be pick up</td>\n",
       "    </tr>\n",
       "    <tr>\n",
       "      <th>2</th>\n",
       "      <td>Lodge_Pcp1</td>\n",
       "      <td>Pcp1</td>\n",
       "      <td>lodged pickup plan</td>\n",
       "    </tr>\n",
       "    <tr>\n",
       "      <th>3</th>\n",
       "      <td>Lodge_Pcp1</td>\n",
       "      <td>Cr1</td>\n",
       "      <td>cargo scheduled to be pick up</td>\n",
       "    </tr>\n",
       "    <tr>\n",
       "      <th>4</th>\n",
       "      <td>Lodge_Pcp2</td>\n",
       "      <td>Pcp2</td>\n",
       "      <td>lodged pickup plan</td>\n",
       "    </tr>\n",
       "    <tr>\n",
       "      <th>...</th>\n",
       "      <td>...</td>\n",
       "      <td>...</td>\n",
       "      <td>...</td>\n",
       "    </tr>\n",
       "    <tr>\n",
       "      <th>2713</th>\n",
       "      <td>eval_trs_exittr24_Pcp6</td>\n",
       "      <td>tr24</td>\n",
       "      <td>Exit evaluation for truck</td>\n",
       "    </tr>\n",
       "    <tr>\n",
       "      <th>2714</th>\n",
       "      <td>eval_trs_exittr37_Pcp6</td>\n",
       "      <td>tr37</td>\n",
       "      <td>Exit evaluation for truck</td>\n",
       "    </tr>\n",
       "    <tr>\n",
       "      <th>2729</th>\n",
       "      <td>eval_trs_exittr40_Pcp4</td>\n",
       "      <td>tr40</td>\n",
       "      <td>Exit evaluation for truck</td>\n",
       "    </tr>\n",
       "    <tr>\n",
       "      <th>2742</th>\n",
       "      <td>eval_trs_exittr19_Pcp4</td>\n",
       "      <td>tr19</td>\n",
       "      <td>Exit evaluation for truck</td>\n",
       "    </tr>\n",
       "    <tr>\n",
       "      <th>2745</th>\n",
       "      <td>eval_trs_exittr9_Pcp4</td>\n",
       "      <td>tr9</td>\n",
       "      <td>Exit evaluation for truck</td>\n",
       "    </tr>\n",
       "  </tbody>\n",
       "</table>\n",
       "<p>822 rows × 3 columns</p>\n",
       "</div>"
      ],
      "text/plain": [
       "                    event_id object_id                  e2o_qualifier\n",
       "0                 Lodge_Pcp7      Pcp7             lodged pickup plan\n",
       "1                 Lodge_Pcp7      Cr17  cargo scheduled to be pick up\n",
       "2                 Lodge_Pcp1      Pcp1             lodged pickup plan\n",
       "3                 Lodge_Pcp1       Cr1  cargo scheduled to be pick up\n",
       "4                 Lodge_Pcp2      Pcp2             lodged pickup plan\n",
       "...                      ...       ...                            ...\n",
       "2713  eval_trs_exittr24_Pcp6      tr24      Exit evaluation for truck\n",
       "2714  eval_trs_exittr37_Pcp6      tr37      Exit evaluation for truck\n",
       "2729  eval_trs_exittr40_Pcp4      tr40      Exit evaluation for truck\n",
       "2742  eval_trs_exittr19_Pcp4      tr19      Exit evaluation for truck\n",
       "2745   eval_trs_exittr9_Pcp4       tr9      Exit evaluation for truck\n",
       "\n",
       "[822 rows x 3 columns]"
      ]
     },
     "execution_count": 31,
     "metadata": {},
     "output_type": "execute_result"
    }
   ],
   "source": [
    "e2o_df_distinct = e2o_df.drop_duplicates()\n",
    "e2o_df_distinct"
   ]
  },
  {
   "cell_type": "code",
   "execution_count": 32,
   "id": "be6756cb",
   "metadata": {},
   "outputs": [],
   "source": [
    "e2o_df_distinct.to_csv('OCEL_E2O.csv', index = False)"
   ]
  },
  {
   "cell_type": "markdown",
   "id": "d804e3a4",
   "metadata": {},
   "source": [
    "#### Object-to-Object relationships"
   ]
  },
  {
   "cell_type": "code",
   "execution_count": 33,
   "id": "0075e402",
   "metadata": {},
   "outputs": [],
   "source": [
    "o2o_df = pd.read_csv('object_object.csv')\n",
    "o2o_df = o2o_df['ocel_source_id;ocel_target_id;ocel_qualifier;ocel_time'].str.split(';', expand=True)\n",
    "o2o_df.columns = ['ocel_source_id', 'ocel_target_id', 'ocel_qualifier','ocel_time']"
   ]
  },
  {
   "cell_type": "code",
   "execution_count": 34,
   "id": "d75f6a17",
   "metadata": {
    "scrolled": false
   },
   "outputs": [
    {
     "data": {
      "text/html": [
       "<div>\n",
       "<style scoped>\n",
       "    .dataframe tbody tr th:only-of-type {\n",
       "        vertical-align: middle;\n",
       "    }\n",
       "\n",
       "    .dataframe tbody tr th {\n",
       "        vertical-align: top;\n",
       "    }\n",
       "\n",
       "    .dataframe thead th {\n",
       "        text-align: right;\n",
       "    }\n",
       "</style>\n",
       "<table border=\"1\" class=\"dataframe\">\n",
       "  <thead>\n",
       "    <tr style=\"text-align: right;\">\n",
       "      <th></th>\n",
       "      <th>ocel_source_id</th>\n",
       "      <th>ocel_target_id</th>\n",
       "      <th>ocel_qualifier</th>\n",
       "      <th>ocel_time</th>\n",
       "    </tr>\n",
       "  </thead>\n",
       "  <tbody>\n",
       "    <tr>\n",
       "      <th>0</th>\n",
       "      <td>Pcp7</td>\n",
       "      <td>Cr17</td>\n",
       "      <td>Lodged pickup plan for cargo</td>\n",
       "      <td>2024-04-29 08:12:32</td>\n",
       "    </tr>\n",
       "    <tr>\n",
       "      <th>1</th>\n",
       "      <td>Pcp1</td>\n",
       "      <td>Cr1</td>\n",
       "      <td>Lodged pickup plan for cargo</td>\n",
       "      <td>2024-04-29 08:39:46</td>\n",
       "    </tr>\n",
       "    <tr>\n",
       "      <th>2</th>\n",
       "      <td>Pcp2</td>\n",
       "      <td>Cr11</td>\n",
       "      <td>Lodged pickup plan for cargo</td>\n",
       "      <td>2024-04-29 08:46:20</td>\n",
       "    </tr>\n",
       "    <tr>\n",
       "      <th>3</th>\n",
       "      <td>Pcp5</td>\n",
       "      <td>Cr7</td>\n",
       "      <td>Lodged pickup plan for cargo</td>\n",
       "      <td>2024-04-29 09:07:13</td>\n",
       "    </tr>\n",
       "    <tr>\n",
       "      <th>4</th>\n",
       "      <td>Pcp4</td>\n",
       "      <td>Cr16</td>\n",
       "      <td>Lodged pickup plan for cargo</td>\n",
       "      <td>2024-04-29 09:07:35</td>\n",
       "    </tr>\n",
       "    <tr>\n",
       "      <th>...</th>\n",
       "      <td>...</td>\n",
       "      <td>...</td>\n",
       "      <td>...</td>\n",
       "      <td>...</td>\n",
       "    </tr>\n",
       "    <tr>\n",
       "      <th>783</th>\n",
       "      <td>tr25</td>\n",
       "      <td>Pcp4</td>\n",
       "      <td>Dropped truck from pickup plan</td>\n",
       "      <td>2024-06-07 08:57:51</td>\n",
       "    </tr>\n",
       "    <tr>\n",
       "      <th>784</th>\n",
       "      <td>tr42</td>\n",
       "      <td>Pcp6</td>\n",
       "      <td>Dropped truck from pickup plan</td>\n",
       "      <td>2024-06-07 09:19:50</td>\n",
       "    </tr>\n",
       "    <tr>\n",
       "      <th>785</th>\n",
       "      <td>tr33</td>\n",
       "      <td>Pcp4</td>\n",
       "      <td>Dropped truck from pickup plan</td>\n",
       "      <td>2024-06-07 09:52:33</td>\n",
       "    </tr>\n",
       "    <tr>\n",
       "      <th>786</th>\n",
       "      <td>tr19</td>\n",
       "      <td>Pcp4</td>\n",
       "      <td>Dropped truck from pickup plan</td>\n",
       "      <td>2024-06-07 16:48:29</td>\n",
       "    </tr>\n",
       "    <tr>\n",
       "      <th>787</th>\n",
       "      <td>tr9</td>\n",
       "      <td>Pcp4</td>\n",
       "      <td>Dropped truck from pickup plan</td>\n",
       "      <td>2024-06-10 08:30:10</td>\n",
       "    </tr>\n",
       "  </tbody>\n",
       "</table>\n",
       "<p>788 rows × 4 columns</p>\n",
       "</div>"
      ],
      "text/plain": [
       "    ocel_source_id ocel_target_id                  ocel_qualifier  \\\n",
       "0             Pcp7           Cr17    Lodged pickup plan for cargo   \n",
       "1             Pcp1            Cr1    Lodged pickup plan for cargo   \n",
       "2             Pcp2           Cr11    Lodged pickup plan for cargo   \n",
       "3             Pcp5            Cr7    Lodged pickup plan for cargo   \n",
       "4             Pcp4           Cr16    Lodged pickup plan for cargo   \n",
       "..             ...            ...                             ...   \n",
       "783           tr25           Pcp4  Dropped truck from pickup plan   \n",
       "784           tr42           Pcp6  Dropped truck from pickup plan   \n",
       "785           tr33           Pcp4  Dropped truck from pickup plan   \n",
       "786           tr19           Pcp4  Dropped truck from pickup plan   \n",
       "787            tr9           Pcp4  Dropped truck from pickup plan   \n",
       "\n",
       "               ocel_time  \n",
       "0    2024-04-29 08:12:32  \n",
       "1    2024-04-29 08:39:46  \n",
       "2    2024-04-29 08:46:20  \n",
       "3    2024-04-29 09:07:13  \n",
       "4    2024-04-29 09:07:35  \n",
       "..                   ...  \n",
       "783  2024-06-07 08:57:51  \n",
       "784  2024-06-07 09:19:50  \n",
       "785  2024-06-07 09:52:33  \n",
       "786  2024-06-07 16:48:29  \n",
       "787  2024-06-10 08:30:10  \n",
       "\n",
       "[788 rows x 4 columns]"
      ]
     },
     "execution_count": 34,
     "metadata": {},
     "output_type": "execute_result"
    }
   ],
   "source": [
    "o2o_df_distinct = o2o_df.drop_duplicates()\n",
    "o2o_df_distinct"
   ]
  },
  {
   "cell_type": "code",
   "execution_count": 35,
   "id": "3c7132ca",
   "metadata": {
    "scrolled": true
   },
   "outputs": [],
   "source": [
    "o2o_df_distinct.rename(columns={'ocel_source_id': 'source_object_id', 'ocel_target_id': 'target_object_id', 'ocel_qualifier': 'o2o_qualifier','ocel_time':'timestamp'}, inplace=True)"
   ]
  },
  {
   "cell_type": "code",
   "execution_count": 36,
   "id": "22e7fbb3",
   "metadata": {
    "scrolled": false
   },
   "outputs": [
    {
     "data": {
      "text/html": [
       "<div>\n",
       "<style scoped>\n",
       "    .dataframe tbody tr th:only-of-type {\n",
       "        vertical-align: middle;\n",
       "    }\n",
       "\n",
       "    .dataframe tbody tr th {\n",
       "        vertical-align: top;\n",
       "    }\n",
       "\n",
       "    .dataframe thead th {\n",
       "        text-align: right;\n",
       "    }\n",
       "</style>\n",
       "<table border=\"1\" class=\"dataframe\">\n",
       "  <thead>\n",
       "    <tr style=\"text-align: right;\">\n",
       "      <th></th>\n",
       "      <th>source_object_id</th>\n",
       "      <th>target_object_id</th>\n",
       "      <th>o2o_qualifier</th>\n",
       "      <th>timestamp</th>\n",
       "    </tr>\n",
       "  </thead>\n",
       "  <tbody>\n",
       "    <tr>\n",
       "      <th>0</th>\n",
       "      <td>Pcp7</td>\n",
       "      <td>Cr17</td>\n",
       "      <td>Lodged pickup plan for cargo</td>\n",
       "      <td>2024-04-29 08:12:32</td>\n",
       "    </tr>\n",
       "    <tr>\n",
       "      <th>1</th>\n",
       "      <td>Pcp1</td>\n",
       "      <td>Cr1</td>\n",
       "      <td>Lodged pickup plan for cargo</td>\n",
       "      <td>2024-04-29 08:39:46</td>\n",
       "    </tr>\n",
       "    <tr>\n",
       "      <th>2</th>\n",
       "      <td>Pcp2</td>\n",
       "      <td>Cr11</td>\n",
       "      <td>Lodged pickup plan for cargo</td>\n",
       "      <td>2024-04-29 08:46:20</td>\n",
       "    </tr>\n",
       "    <tr>\n",
       "      <th>3</th>\n",
       "      <td>Pcp5</td>\n",
       "      <td>Cr7</td>\n",
       "      <td>Lodged pickup plan for cargo</td>\n",
       "      <td>2024-04-29 09:07:13</td>\n",
       "    </tr>\n",
       "    <tr>\n",
       "      <th>4</th>\n",
       "      <td>Pcp4</td>\n",
       "      <td>Cr16</td>\n",
       "      <td>Lodged pickup plan for cargo</td>\n",
       "      <td>2024-04-29 09:07:35</td>\n",
       "    </tr>\n",
       "    <tr>\n",
       "      <th>...</th>\n",
       "      <td>...</td>\n",
       "      <td>...</td>\n",
       "      <td>...</td>\n",
       "      <td>...</td>\n",
       "    </tr>\n",
       "    <tr>\n",
       "      <th>783</th>\n",
       "      <td>tr25</td>\n",
       "      <td>Pcp4</td>\n",
       "      <td>Dropped truck from pickup plan</td>\n",
       "      <td>2024-06-07 08:57:51</td>\n",
       "    </tr>\n",
       "    <tr>\n",
       "      <th>784</th>\n",
       "      <td>tr42</td>\n",
       "      <td>Pcp6</td>\n",
       "      <td>Dropped truck from pickup plan</td>\n",
       "      <td>2024-06-07 09:19:50</td>\n",
       "    </tr>\n",
       "    <tr>\n",
       "      <th>785</th>\n",
       "      <td>tr33</td>\n",
       "      <td>Pcp4</td>\n",
       "      <td>Dropped truck from pickup plan</td>\n",
       "      <td>2024-06-07 09:52:33</td>\n",
       "    </tr>\n",
       "    <tr>\n",
       "      <th>786</th>\n",
       "      <td>tr19</td>\n",
       "      <td>Pcp4</td>\n",
       "      <td>Dropped truck from pickup plan</td>\n",
       "      <td>2024-06-07 16:48:29</td>\n",
       "    </tr>\n",
       "    <tr>\n",
       "      <th>787</th>\n",
       "      <td>tr9</td>\n",
       "      <td>Pcp4</td>\n",
       "      <td>Dropped truck from pickup plan</td>\n",
       "      <td>2024-06-10 08:30:10</td>\n",
       "    </tr>\n",
       "  </tbody>\n",
       "</table>\n",
       "<p>788 rows × 4 columns</p>\n",
       "</div>"
      ],
      "text/plain": [
       "    source_object_id target_object_id                   o2o_qualifier  \\\n",
       "0               Pcp7             Cr17    Lodged pickup plan for cargo   \n",
       "1               Pcp1              Cr1    Lodged pickup plan for cargo   \n",
       "2               Pcp2             Cr11    Lodged pickup plan for cargo   \n",
       "3               Pcp5              Cr7    Lodged pickup plan for cargo   \n",
       "4               Pcp4             Cr16    Lodged pickup plan for cargo   \n",
       "..               ...              ...                             ...   \n",
       "783             tr25             Pcp4  Dropped truck from pickup plan   \n",
       "784             tr42             Pcp6  Dropped truck from pickup plan   \n",
       "785             tr33             Pcp4  Dropped truck from pickup plan   \n",
       "786             tr19             Pcp4  Dropped truck from pickup plan   \n",
       "787              tr9             Pcp4  Dropped truck from pickup plan   \n",
       "\n",
       "               timestamp  \n",
       "0    2024-04-29 08:12:32  \n",
       "1    2024-04-29 08:39:46  \n",
       "2    2024-04-29 08:46:20  \n",
       "3    2024-04-29 09:07:13  \n",
       "4    2024-04-29 09:07:35  \n",
       "..                   ...  \n",
       "783  2024-06-07 08:57:51  \n",
       "784  2024-06-07 09:19:50  \n",
       "785  2024-06-07 09:52:33  \n",
       "786  2024-06-07 16:48:29  \n",
       "787  2024-06-10 08:30:10  \n",
       "\n",
       "[788 rows x 4 columns]"
      ]
     },
     "execution_count": 36,
     "metadata": {},
     "output_type": "execute_result"
    }
   ],
   "source": [
    "o2o_df_distinct"
   ]
  },
  {
   "cell_type": "code",
   "execution_count": 37,
   "id": "3fef713b",
   "metadata": {},
   "outputs": [],
   "source": [
    "o2o_df_distinct.to_csv('OCEL_O2O.csv', index = False)"
   ]
  },
  {
   "cell_type": "markdown",
   "id": "92db97ce",
   "metadata": {},
   "source": [
    "#### Object: Truck"
   ]
  },
  {
   "cell_type": "code",
   "execution_count": 38,
   "id": "c91cb782",
   "metadata": {},
   "outputs": [],
   "source": [
    "truck_df = pd.read_csv('object_Truck.csv')\n",
    "truck_df = truck_df['ocel_id;ocel_time;ocel_changed_field;Pickup Plan ID;Cargo ID;LPT;Axles;Scheduled Pickup Weight;Truck Status;Truck Weight'].str.split(';', expand=True)\n",
    "truck_df.columns = ['ocel_id','ocel_time','ocel_changed_field','Pickup Plan ID','Cargo ID','LPT','Axles','Scheduled Pickup Weight','Truck Status','Truck Weight']\n",
    "truck_df.rename(columns={'ocel_id': 'object_id', 'ocel_time': 'timestamp'}, inplace=True)"
   ]
  },
  {
   "cell_type": "code",
   "execution_count": 39,
   "id": "c1e540c4",
   "metadata": {},
   "outputs": [],
   "source": [
    "truck_df.to_csv('OCEL_Truck.csv', index = False)"
   ]
  },
  {
   "cell_type": "markdown",
   "id": "9c9b2373",
   "metadata": {},
   "source": [
    "#### Object: PickupPlan"
   ]
  },
  {
   "cell_type": "code",
   "execution_count": 40,
   "id": "2247d251",
   "metadata": {},
   "outputs": [],
   "source": [
    "pickupplan_df = pd.read_csv('object_Pickupplan.csv')\n",
    "pickupplan_df = pickupplan_df['ocel_id;ocel_time;ocel_changed_field;Cargo ID;Num of trucks;Total pickup weight'].str.split(';', expand=True)\n",
    "pickupplan_df.columns = ['ocel_id','ocel_time','ocel_changed_field','Cargo ID','Num of trucks','Total pickup weight']\n",
    "pickupplan_df.rename(columns={'ocel_id': 'object_id', 'ocel_time': 'timestamp'}, inplace=True)"
   ]
  },
  {
   "cell_type": "code",
   "execution_count": 41,
   "id": "a722998b",
   "metadata": {},
   "outputs": [],
   "source": [
    "pickupplan_df.to_csv('OCEL_PickupPlan.csv', index = False)"
   ]
  },
  {
   "cell_type": "markdown",
   "id": "bb606f34",
   "metadata": {},
   "source": [
    "#### Object: Cargo"
   ]
  },
  {
   "cell_type": "code",
   "execution_count": 45,
   "id": "071e5a8f",
   "metadata": {},
   "outputs": [],
   "source": [
    "cargo_df = pd.read_csv('object_Cargo.csv')\n",
    "cargo_df = cargo_df['ocel_id;ocel_time;ocel_changed_field;Cargo Type;Cargo stock weight(scheduled);Silo ID'].str.split(';', expand=True)\n",
    "cargo_df.columns = ['ocel_id','ocel_time','ocel_changed_field','Cargo Type','Cargo stock weight(scheduled)','Silo ID']\n",
    "cargo_df.rename(columns={'ocel_id': 'object_id', 'ocel_time': 'timestamp'}, inplace=True)"
   ]
  },
  {
   "cell_type": "code",
   "execution_count": 46,
   "id": "6d06e53c",
   "metadata": {},
   "outputs": [],
   "source": [
    "cargo_df.to_csv('OCEL_Cargo.csv', index = False)"
   ]
  },
  {
   "cell_type": "code",
   "execution_count": null,
   "id": "dd84b0fd",
   "metadata": {},
   "outputs": [],
   "source": []
  }
 ],
 "metadata": {
  "kernelspec": {
   "display_name": "Python 3 (ipykernel)",
   "language": "python",
   "name": "python3"
  },
  "language_info": {
   "codemirror_mode": {
    "name": "ipython",
    "version": 3
   },
   "file_extension": ".py",
   "mimetype": "text/x-python",
   "name": "python",
   "nbconvert_exporter": "python",
   "pygments_lexer": "ipython3",
   "version": "3.9.7"
  },
  "vp": {
   "vp_config_version": "1.0.0",
   "vp_menu_width": 273,
   "vp_note_display": false,
   "vp_note_width": 0,
   "vp_position": {
    "width": 278
   },
   "vp_section_display": false,
   "vp_signature": "VisualPython"
  }
 },
 "nbformat": 4,
 "nbformat_minor": 5
}
