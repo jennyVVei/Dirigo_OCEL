{
 "cells": [
  {
   "cell_type": "markdown",
   "metadata": {},
   "source": [
    "#### Static Attributes Completness Ratio"
   ]
  },
  {
   "cell_type": "code",
   "execution_count": 1,
   "metadata": {},
   "outputs": [
    {
     "name": "stderr",
     "output_type": "stream",
     "text": [
      "c:\\Users\\n9810200\\Anaconda3\\lib\\site-packages\\pandas\\core\\arrays\\masked.py:60: UserWarning: Pandas requires version '1.3.6' or newer of 'bottleneck' (version '1.3.2' currently installed).\n",
      "  from pandas.core import (\n",
      "C:\\Users\\n9810200\\AppData\\Local\\Temp/ipykernel_321476/4080736814.py:1: DeprecationWarning: \n",
      "Pyarrow will become a required dependency of pandas in the next major release of pandas (pandas 3.0),\n",
      "(to allow more performant data types, such as the Arrow string type, and better interoperability with other libraries)\n",
      "but was not found to be installed on your system.\n",
      "If this would cause problems for you,\n",
      "please provide us feedback at https://github.com/pandas-dev/pandas/issues/54466\n",
      "        \n",
      "  import pandas as pd\n"
     ]
    }
   ],
   "source": [
    "import pandas as pd"
   ]
  },
  {
   "cell_type": "code",
   "execution_count": 2,
   "metadata": {},
   "outputs": [],
   "source": [
    "truck_df_dirigo = pd.read_csv('../Dirigo/OCEL_Truck.csv')\n",
    "cargo_df_dirigo = pd.read_csv('../Dirigo/OCEL_Cargo.csv')"
   ]
  },
  {
   "cell_type": "code",
   "execution_count": 3,
   "metadata": {},
   "outputs": [],
   "source": [
    "truck_object_ids = truck_df_dirigo[\"Object_id\"].unique()\n",
    "cargo_object_ids = cargo_df_dirigo[\"Object_id\"].unique()"
   ]
  },
  {
   "cell_type": "code",
   "execution_count": 4,
   "metadata": {},
   "outputs": [],
   "source": [
    "truck_static_attrs = [\"LPT\", \"Axles\"]\n",
    "cargo_static_attrs = [\"Cargo Type\", \"Silo ID\"]"
   ]
  },
  {
   "cell_type": "code",
   "execution_count": null,
   "metadata": {},
   "outputs": [
    {
     "data": {
      "text/plain": [
       "140"
      ]
     },
     "execution_count": 5,
     "metadata": {},
     "output_type": "execute_result"
    }
   ],
   "source": [
    "# truck_total_pairs = len(truck_object_ids) * len(truck_static_attrs)\n",
    "# cargo_total_pairs = len(cargo_object_ids) * len(cargo_static_attrs)\n",
    "# denominator = truck_total_pairs + cargo_total_pairs\n",
    "# denominator"
   ]
  },
  {
   "cell_type": "markdown",
   "metadata": {},
   "source": [
    "##### Dirigo"
   ]
  },
  {
   "cell_type": "code",
   "execution_count": null,
   "metadata": {},
   "outputs": [],
   "source": [
    "def identify_static_attributes(df, skip_cols=None):\n",
    "    if skip_cols is None:\n",
    "        skip_cols = [\"Timestamp\", \"Ocel_changed_field\"]\n",
    "    static_attrs = []\n",
    "    for attr in df.columns:\n",
    "        if attr == \"Object_id\" or attr in skip_cols:\n",
    "            continue\n",
    "        unique_counts = df.groupby(\"Object_id\")[attr].nunique(dropna=True)\n",
    "        if (unique_counts <= 1).all():\n",
    "            static_attrs.append(attr)\n",
    "    return static_attrs"
   ]
  },
  {
   "cell_type": "code",
   "execution_count": 6,
   "metadata": {},
   "outputs": [],
   "source": [
    "def compute_static_completeness_numerator(df,static_attrs):\n",
    "    result = {}\n",
    "    for attr in static_attrs:\n",
    "        filled_count = df.dropna(subset=[attr]).groupby(\"Object_id\")[attr].nunique().sum()\n",
    "        result[attr] = filled_count\n",
    "    return result"
   ]
  },
  {
   "cell_type": "code",
   "execution_count": 8,
   "metadata": {},
   "outputs": [],
   "source": [
    "truck_static_attrs = identify_static_attributes(truck_df_dirigo)\n",
    "# -- ['LPT', 'Axles']\n",
    "cargo_static_attrs = identify_static_attributes(cargo_df_dirigo)\n",
    "# -- ['Cargo Type', 'Silo ID']"
   ]
  },
  {
   "cell_type": "code",
   "execution_count": 17,
   "metadata": {},
   "outputs": [],
   "source": [
    "truck_filled_total = compute_static_completeness_numerator(truck_df_dirigo, truck_static_attrs)\n",
    "\n",
    "cargo_filled_total = compute_static_completeness_numerator(cargo_df_dirigo, cargo_static_attrs)\n"
   ]
  },
  {
   "cell_type": "code",
   "execution_count": 18,
   "metadata": {},
   "outputs": [
    {
     "name": "stdout",
     "output_type": "stream",
     "text": [
      "Cargo attribute completeness ratios:\n",
      "Cargo Type: 100.00%\n",
      "Silo ID: 100.00%\n"
     ]
    }
   ],
   "source": [
    "num_cargo_objects = cargo_df_dirigo['Object_id'].nunique()\n",
    "\n",
    "cargo_attr_ratios = {\n",
    "    attr: filled / num_cargo_objects\n",
    "    for attr, filled in cargo_filled_total.items()\n",
    "}\n",
    "print(\"Cargo attribute completeness ratios:\")\n",
    "for attr, ratio in cargo_attr_ratios.items():\n",
    "    print(f\"{attr}: {ratio:.2%}\")"
   ]
  },
  {
   "cell_type": "code",
   "execution_count": 20,
   "metadata": {},
   "outputs": [
    {
     "name": "stdout",
     "output_type": "stream",
     "text": [
      "Truck attribute completeness ratios:\n",
      "LPT: 100.00%\n",
      "Axles: 100.00%\n"
     ]
    }
   ],
   "source": [
    "num_truck_objects = truck_df_dirigo['Object_id'].nunique()\n",
    "\n",
    "truck_attr_ratios = {\n",
    "    attr: filled / num_truck_objects\n",
    "    for attr, filled in truck_filled_total.items()\n",
    "}\n",
    "print(\"Truck attribute completeness ratios:\")\n",
    "for attr, ratio in truck_attr_ratios.items():\n",
    "    print(f\"{attr}: {ratio:.2%}\")"
   ]
  },
  {
   "cell_type": "markdown",
   "metadata": {},
   "source": [
    "##### ACEL"
   ]
  },
  {
   "cell_type": "code",
   "execution_count": 22,
   "metadata": {},
   "outputs": [],
   "source": [
    "staticAttri_df = pd.read_csv('../ACEL/ACEL_Objects.csv')"
   ]
  },
  {
   "cell_type": "code",
   "execution_count": 33,
   "metadata": {},
   "outputs": [
    {
     "data": {
      "text/plain": [
       "{'Cargo': ['Cargo Type', 'Silo ID'], 'Truck': ['LPT', 'Axles']}"
      ]
     },
     "execution_count": 33,
     "metadata": {},
     "output_type": "execute_result"
    }
   ],
   "source": [
    "attribute_map_by_type = {}\n",
    "\n",
    "object_types = staticAttri_df['Object Type'].unique()\n",
    "\n",
    "for ot in object_types:\n",
    "    df_sub = staticAttri_df[staticAttri_df['Object Type'] == ot]\n",
    "    attr_cols = [\n",
    "        col for col in staticAttri_df.columns\n",
    "        if col not in [\"ObjectId\", \"Object Type\"] and df_sub[col].notna().any()\n",
    "    ]\n",
    "    attribute_map_by_type[ot] = attr_cols\n",
    "\n",
    "attribute_map_by_type\n"
   ]
  },
  {
   "cell_type": "code",
   "execution_count": 36,
   "metadata": {},
   "outputs": [
    {
     "name": "stdout",
     "output_type": "stream",
     "text": [
      "Static Attribute Completeness Ratios:\n",
      "\n",
      "Object Type: Cargo\n",
      "Cargo Type: 100.00%\n",
      "Silo ID: 100.00%\n",
      "\n",
      "Object Type: Truck\n",
      "LPT: 100.00%\n",
      "Axles: 100.00%\n",
      "\n"
     ]
    }
   ],
   "source": [
    "object_counts = staticAttri_df.groupby(\"Object Type\")[\"ObjectId\"].nunique().to_dict()\n",
    "\n",
    "attribute_map_by_type = {}\n",
    "object_types = staticAttri_df['Object Type'].unique()\n",
    "\n",
    "for ot in object_types:\n",
    "    df_sub = staticAttri_df[staticAttri_df['Object Type'] == ot]\n",
    "    attr_cols = [\n",
    "        col for col in staticAttri_df.columns\n",
    "        if col not in [\"ObjectId\", \"Object Type\"] and df_sub[col].notna().any()\n",
    "    ]\n",
    "    attribute_map_by_type[ot] = attr_cols\n",
    "\n",
    "\n",
    "print(\"Static Attribute Completeness Ratios:\\n\")\n",
    "\n",
    "for ot, attrs in attribute_map_by_type.items():\n",
    "    df_sub = staticAttri_df[staticAttri_df['Object Type'] == ot]\n",
    "    num_objects = object_counts[ot]\n",
    "\n",
    "    print(f\"Object Type: {ot}\")\n",
    "    for attr in attrs:\n",
    "        filled_count = df_sub[attr].notna().sum()\n",
    "        ratio = filled_count / num_objects\n",
    "        print(f\"{attr}: {ratio:.2%}\")\n",
    "    print()\n"
   ]
  },
  {
   "cell_type": "markdown",
   "metadata": {},
   "source": [
    "##### DOCEL"
   ]
  },
  {
   "cell_type": "code",
   "execution_count": 38,
   "metadata": {},
   "outputs": [],
   "source": [
    "truckStatic_df = pd.read_csv('../DOCEL/DOCEL_Truck_Static.csv')\n",
    "cargoStatic_df = pd.read_csv('../DOCEL/DOCEL_Cargo_Static.csv')"
   ]
  },
  {
   "cell_type": "code",
   "execution_count": 39,
   "metadata": {},
   "outputs": [],
   "source": [
    "truckattr_cols = [col for col in truckStatic_df.columns if col not in [\"Truck ID\"]]\n",
    "cargoattr_cols = [col for col in cargoStatic_df.columns if col not in [\"Cargo ID\"]]\n"
   ]
  },
  {
   "cell_type": "code",
   "execution_count": 51,
   "metadata": {},
   "outputs": [
    {
     "data": {
      "text/plain": [
       "LPT      50\n",
       "Axles    50\n",
       "dtype: int64"
      ]
     },
     "execution_count": 51,
     "metadata": {},
     "output_type": "execute_result"
    }
   ],
   "source": [
    "truckAttr_counts_per_attr = truckStatic_df[truckattr_cols].notna().sum()\n",
    "truckAttr_counts_per_attr\n"
   ]
  },
  {
   "cell_type": "code",
   "execution_count": 50,
   "metadata": {},
   "outputs": [
    {
     "data": {
      "text/plain": [
       "Cargo Type    20\n",
       "Silo ID       20\n",
       "dtype: int64"
      ]
     },
     "execution_count": 50,
     "metadata": {},
     "output_type": "execute_result"
    }
   ],
   "source": [
    "cargoAttr_counts_per_attr = cargoStatic_df[cargoattr_cols].notna().sum()\n",
    "cargoAttr_counts_per_attr"
   ]
  },
  {
   "cell_type": "code",
   "execution_count": 52,
   "metadata": {},
   "outputs": [],
   "source": [
    "lpt_ratio = truckAttr_counts_per_attr['LPT']/ len(truckStatic_df['Truck ID'])\n",
    "axles_ratio = truckAttr_counts_per_attr['Axles']/ len(truckStatic_df['Truck ID'])\n",
    "cargoType_ratio = cargoAttr_counts_per_attr['Cargo Type']/ len(cargoStatic_df['Cargo ID'])\n",
    "cargoLoc_ratio = cargoAttr_counts_per_attr['Silo ID']/ len(cargoStatic_df['Cargo ID'])"
   ]
  },
  {
   "cell_type": "code",
   "execution_count": 55,
   "metadata": {},
   "outputs": [
    {
     "name": "stdout",
     "output_type": "stream",
     "text": [
      "Static Attribute Completeness Ratio for DOCEL:\n",
      "Truck\n",
      "LPT: 100.00%\n",
      "Axles: 100.00%\n",
      "Cargo\n",
      "Cargo Type: 100.00%\n",
      "Silo ID: 100.00%\n"
     ]
    }
   ],
   "source": [
    "print(\"Static Attribute Completeness Ratio for DOCEL:\")\n",
    "\n",
    "print(\"Truck\")\n",
    "print(\"LPT: {:.2f}%\".format(lpt_ratio * 100))\n",
    "print(\"Axles: {:.2f}%\".format(axles_ratio * 100))\n",
    "\n",
    "print(\"Cargo\")\n",
    "print(\"Cargo Type: {:.2f}%\".format(cargoType_ratio * 100))\n",
    "print(\"Silo ID: {:.2f}%\".format(cargoLoc_ratio * 100))\n"
   ]
  },
  {
   "cell_type": "code",
   "execution_count": null,
   "metadata": {},
   "outputs": [],
   "source": []
  }
 ],
 "metadata": {
  "kernelspec": {
   "display_name": "base",
   "language": "python",
   "name": "python3"
  },
  "language_info": {
   "codemirror_mode": {
    "name": "ipython",
    "version": 3
   },
   "file_extension": ".py",
   "mimetype": "text/x-python",
   "name": "python",
   "nbconvert_exporter": "python",
   "pygments_lexer": "ipython3",
   "version": "3.9.7"
  }
 },
 "nbformat": 4,
 "nbformat_minor": 2
}
