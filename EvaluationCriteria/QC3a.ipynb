{
 "cells": [
  {
   "cell_type": "code",
   "execution_count": 12,
   "metadata": {},
   "outputs": [],
   "source": [
    "import pandas as pd\n",
    "import ast"
   ]
  },
  {
   "cell_type": "code",
   "execution_count": 2,
   "metadata": {},
   "outputs": [],
   "source": [
    "expected_staticO2O = 100 "
   ]
  },
  {
   "cell_type": "markdown",
   "metadata": {},
   "source": [
    "##### Dirigo"
   ]
  },
  {
   "cell_type": "code",
   "execution_count": 4,
   "metadata": {},
   "outputs": [],
   "source": [
    "dirigo_df = pd.read_csv('../Dirigo/OCEL_O2O.csv')"
   ]
  },
  {
   "cell_type": "code",
   "execution_count": 6,
   "metadata": {},
   "outputs": [
    {
     "data": {
      "text/html": [
       "<div>\n",
       "<style scoped>\n",
       "    .dataframe tbody tr th:only-of-type {\n",
       "        vertical-align: middle;\n",
       "    }\n",
       "\n",
       "    .dataframe tbody tr th {\n",
       "        vertical-align: top;\n",
       "    }\n",
       "\n",
       "    .dataframe thead th {\n",
       "        text-align: right;\n",
       "    }\n",
       "</style>\n",
       "<table border=\"1\" class=\"dataframe\">\n",
       "  <thead>\n",
       "    <tr style=\"text-align: right;\">\n",
       "      <th></th>\n",
       "      <th>Source_object_id</th>\n",
       "      <th>Target_object_id</th>\n",
       "      <th>Timestamp</th>\n",
       "    </tr>\n",
       "  </thead>\n",
       "  <tbody>\n",
       "    <tr>\n",
       "      <th>0</th>\n",
       "      <td>Pcp1</td>\n",
       "      <td>Cr4</td>\n",
       "      <td>1</td>\n",
       "    </tr>\n",
       "    <tr>\n",
       "      <th>1</th>\n",
       "      <td>Pcp10</td>\n",
       "      <td>Cr5</td>\n",
       "      <td>1</td>\n",
       "    </tr>\n",
       "    <tr>\n",
       "      <th>2</th>\n",
       "      <td>Pcp100</td>\n",
       "      <td>Cr20</td>\n",
       "      <td>1</td>\n",
       "    </tr>\n",
       "    <tr>\n",
       "      <th>3</th>\n",
       "      <td>Pcp11</td>\n",
       "      <td>Cr19</td>\n",
       "      <td>1</td>\n",
       "    </tr>\n",
       "    <tr>\n",
       "      <th>4</th>\n",
       "      <td>Pcp12</td>\n",
       "      <td>Cr9</td>\n",
       "      <td>1</td>\n",
       "    </tr>\n",
       "    <tr>\n",
       "      <th>...</th>\n",
       "      <td>...</td>\n",
       "      <td>...</td>\n",
       "      <td>...</td>\n",
       "    </tr>\n",
       "    <tr>\n",
       "      <th>295</th>\n",
       "      <td>tr8</td>\n",
       "      <td>Pcp77</td>\n",
       "      <td>2</td>\n",
       "    </tr>\n",
       "    <tr>\n",
       "      <th>296</th>\n",
       "      <td>tr8</td>\n",
       "      <td>Pcp80</td>\n",
       "      <td>2</td>\n",
       "    </tr>\n",
       "    <tr>\n",
       "      <th>297</th>\n",
       "      <td>tr9</td>\n",
       "      <td>Pcp13</td>\n",
       "      <td>2</td>\n",
       "    </tr>\n",
       "    <tr>\n",
       "      <th>298</th>\n",
       "      <td>tr9</td>\n",
       "      <td>Pcp6</td>\n",
       "      <td>2</td>\n",
       "    </tr>\n",
       "    <tr>\n",
       "      <th>299</th>\n",
       "      <td>tr9</td>\n",
       "      <td>Pcp78</td>\n",
       "      <td>2</td>\n",
       "    </tr>\n",
       "  </tbody>\n",
       "</table>\n",
       "<p>300 rows × 3 columns</p>\n",
       "</div>"
      ],
      "text/plain": [
       "    Source_object_id Target_object_id  Timestamp\n",
       "0               Pcp1              Cr4          1\n",
       "1              Pcp10              Cr5          1\n",
       "2             Pcp100             Cr20          1\n",
       "3              Pcp11             Cr19          1\n",
       "4              Pcp12              Cr9          1\n",
       "..               ...              ...        ...\n",
       "295              tr8            Pcp77          2\n",
       "296              tr8            Pcp80          2\n",
       "297              tr9            Pcp13          2\n",
       "298              tr9             Pcp6          2\n",
       "299              tr9            Pcp78          2\n",
       "\n",
       "[300 rows x 3 columns]"
      ]
     },
     "execution_count": 6,
     "metadata": {},
     "output_type": "execute_result"
    }
   ],
   "source": [
    "grouped_dirigo = dirigo_df.groupby(['Source_object_id', 'Target_object_id'])['Timestamp'].nunique().reset_index()\n",
    "grouped_dirigo"
   ]
  },
  {
   "cell_type": "code",
   "execution_count": 10,
   "metadata": {},
   "outputs": [
    {
     "name": "stdout",
     "output_type": "stream",
     "text": [
      "SO2OCR (Dirigo): 100.00%\n"
     ]
    }
   ],
   "source": [
    "static_pairs_dirigo = grouped_dirigo[grouped_dirigo['Timestamp'] == 1]\n",
    "\n",
    "completeness_ratio_dirigo = len(static_pairs_dirigo) / expected_staticO2O\n",
    "print(f\"SO2OCR (Dirigo): {completeness_ratio_dirigo:.2%}\")"
   ]
  },
  {
   "cell_type": "markdown",
   "metadata": {},
   "source": [
    "##### ACEL\n"
   ]
  },
  {
   "cell_type": "code",
   "execution_count": 21,
   "metadata": {},
   "outputs": [],
   "source": [
    "acel_events = pd.read_csv('../ACEL/ACEL_Events.csv')"
   ]
  },
  {
   "cell_type": "code",
   "execution_count": 22,
   "metadata": {},
   "outputs": [],
   "source": [
    "relation_changes = []\n",
    "for _, row in acel_events.iterrows():\n",
    "        changes_raw = row['RelationChanges']\n",
    "        if pd.notna(changes_raw):\n",
    "            try:\n",
    "                changes = ast.literal_eval(changes_raw)\n",
    "                for change in changes:\n",
    "                    relation_changes.append({\n",
    "                        'RelationId': change.get('RelationId'),\n",
    "                        'ChangeStatus': change.get('ChangeStatus')\n",
    "                    })\n",
    "            except Exception:\n",
    "                continue\n"
   ]
  },
  {
   "cell_type": "code",
   "execution_count": 26,
   "metadata": {},
   "outputs": [
    {
     "data": {
      "text/html": [
       "<div>\n",
       "<style scoped>\n",
       "    .dataframe tbody tr th:only-of-type {\n",
       "        vertical-align: middle;\n",
       "    }\n",
       "\n",
       "    .dataframe tbody tr th {\n",
       "        vertical-align: top;\n",
       "    }\n",
       "\n",
       "    .dataframe thead th {\n",
       "        text-align: right;\n",
       "    }\n",
       "</style>\n",
       "<table border=\"1\" class=\"dataframe\">\n",
       "  <thead>\n",
       "    <tr style=\"text-align: right;\">\n",
       "      <th></th>\n",
       "      <th>RelationId</th>\n",
       "      <th>ChangeStatus</th>\n",
       "    </tr>\n",
       "  </thead>\n",
       "  <tbody>\n",
       "    <tr>\n",
       "      <th>0</th>\n",
       "      <td>Cr2_to_Pcp44</td>\n",
       "      <td>addedTarget</td>\n",
       "    </tr>\n",
       "    <tr>\n",
       "      <th>1</th>\n",
       "      <td>Cr9_to_Pcp87</td>\n",
       "      <td>addedTarget</td>\n",
       "    </tr>\n",
       "    <tr>\n",
       "      <th>2</th>\n",
       "      <td>Cr20_to_Pcp48</td>\n",
       "      <td>addedTarget</td>\n",
       "    </tr>\n",
       "    <tr>\n",
       "      <th>3</th>\n",
       "      <td>Cr13_to_Pcp55</td>\n",
       "      <td>addedTarget</td>\n",
       "    </tr>\n",
       "    <tr>\n",
       "      <th>4</th>\n",
       "      <td>Cr7_to_Pcp69</td>\n",
       "      <td>addedTarget</td>\n",
       "    </tr>\n",
       "    <tr>\n",
       "      <th>...</th>\n",
       "      <td>...</td>\n",
       "      <td>...</td>\n",
       "    </tr>\n",
       "    <tr>\n",
       "      <th>495</th>\n",
       "      <td>Pcp51_to_tr29</td>\n",
       "      <td>deletedTarget</td>\n",
       "    </tr>\n",
       "    <tr>\n",
       "      <th>496</th>\n",
       "      <td>Pcp70_to_tr29</td>\n",
       "      <td>addedTarget</td>\n",
       "    </tr>\n",
       "    <tr>\n",
       "      <th>497</th>\n",
       "      <td>Pcp70_to_tr49</td>\n",
       "      <td>addedTarget</td>\n",
       "    </tr>\n",
       "    <tr>\n",
       "      <th>498</th>\n",
       "      <td>Pcp70_to_tr49</td>\n",
       "      <td>deletedTarget</td>\n",
       "    </tr>\n",
       "    <tr>\n",
       "      <th>499</th>\n",
       "      <td>Pcp70_to_tr29</td>\n",
       "      <td>deletedTarget</td>\n",
       "    </tr>\n",
       "  </tbody>\n",
       "</table>\n",
       "<p>500 rows × 2 columns</p>\n",
       "</div>"
      ],
      "text/plain": [
       "        RelationId   ChangeStatus\n",
       "0     Cr2_to_Pcp44    addedTarget\n",
       "1     Cr9_to_Pcp87    addedTarget\n",
       "2    Cr20_to_Pcp48    addedTarget\n",
       "3    Cr13_to_Pcp55    addedTarget\n",
       "4     Cr7_to_Pcp69    addedTarget\n",
       "..             ...            ...\n",
       "495  Pcp51_to_tr29  deletedTarget\n",
       "496  Pcp70_to_tr29    addedTarget\n",
       "497  Pcp70_to_tr49    addedTarget\n",
       "498  Pcp70_to_tr49  deletedTarget\n",
       "499  Pcp70_to_tr29  deletedTarget\n",
       "\n",
       "[500 rows x 2 columns]"
      ]
     },
     "execution_count": 26,
     "metadata": {},
     "output_type": "execute_result"
    }
   ],
   "source": [
    "acel_o2o_static = pd.DataFrame(relation_changes)\n",
    "acel_o2o_static"
   ]
  },
  {
   "cell_type": "code",
   "execution_count": 31,
   "metadata": {},
   "outputs": [
    {
     "name": "stdout",
     "output_type": "stream",
     "text": [
      "SO2OCR (ACEL): 100.00%\n"
     ]
    }
   ],
   "source": [
    "status_counts = acel_o2o_static.groupby('RelationId')['ChangeStatus'].nunique().reset_index()\n",
    "acel_static_relations = status_counts[status_counts['ChangeStatus'] == 1]\n",
    "completeness_ratio_acel = len(acel_static_relations) / expected_staticO2O\n",
    "print(f\"SO2OCR (ACEL): {completeness_ratio_acel:.2%}\")"
   ]
  },
  {
   "cell_type": "markdown",
   "metadata": {},
   "source": [
    "##### DOCEL"
   ]
  },
  {
   "cell_type": "code",
   "execution_count": 32,
   "metadata": {},
   "outputs": [],
   "source": [
    "docel_df = pd.read_csv('../DOCEL/DOCEL_PickupplanCargo.csv')"
   ]
  },
  {
   "cell_type": "code",
   "execution_count": null,
   "metadata": {},
   "outputs": [
    {
     "data": {
      "text/html": [
       "<div>\n",
       "<style scoped>\n",
       "    .dataframe tbody tr th:only-of-type {\n",
       "        vertical-align: middle;\n",
       "    }\n",
       "\n",
       "    .dataframe tbody tr th {\n",
       "        vertical-align: top;\n",
       "    }\n",
       "\n",
       "    .dataframe thead th {\n",
       "        text-align: right;\n",
       "    }\n",
       "</style>\n",
       "<table border=\"1\" class=\"dataframe\">\n",
       "  <thead>\n",
       "    <tr style=\"text-align: right;\">\n",
       "      <th></th>\n",
       "      <th>Cargo ID</th>\n",
       "      <th>objectID</th>\n",
       "    </tr>\n",
       "  </thead>\n",
       "  <tbody>\n",
       "    <tr>\n",
       "      <th>0</th>\n",
       "      <td>Cr2</td>\n",
       "      <td>Pcp44</td>\n",
       "    </tr>\n",
       "    <tr>\n",
       "      <th>1</th>\n",
       "      <td>Cr9</td>\n",
       "      <td>Pcp87</td>\n",
       "    </tr>\n",
       "    <tr>\n",
       "      <th>2</th>\n",
       "      <td>Cr20</td>\n",
       "      <td>Pcp48</td>\n",
       "    </tr>\n",
       "    <tr>\n",
       "      <th>3</th>\n",
       "      <td>Cr13</td>\n",
       "      <td>Pcp55</td>\n",
       "    </tr>\n",
       "    <tr>\n",
       "      <th>4</th>\n",
       "      <td>Cr7</td>\n",
       "      <td>Pcp69</td>\n",
       "    </tr>\n",
       "    <tr>\n",
       "      <th>...</th>\n",
       "      <td>...</td>\n",
       "      <td>...</td>\n",
       "    </tr>\n",
       "    <tr>\n",
       "      <th>95</th>\n",
       "      <td>Cr20</td>\n",
       "      <td>Pcp37</td>\n",
       "    </tr>\n",
       "    <tr>\n",
       "      <th>96</th>\n",
       "      <td>Cr14</td>\n",
       "      <td>Pcp75</td>\n",
       "    </tr>\n",
       "    <tr>\n",
       "      <th>97</th>\n",
       "      <td>Cr15</td>\n",
       "      <td>Pcp62</td>\n",
       "    </tr>\n",
       "    <tr>\n",
       "      <th>98</th>\n",
       "      <td>Cr17</td>\n",
       "      <td>Pcp50</td>\n",
       "    </tr>\n",
       "    <tr>\n",
       "      <th>99</th>\n",
       "      <td>Cr13</td>\n",
       "      <td>Pcp77</td>\n",
       "    </tr>\n",
       "  </tbody>\n",
       "</table>\n",
       "<p>100 rows × 2 columns</p>\n",
       "</div>"
      ],
      "text/plain": [
       "   Cargo ID objectID\n",
       "0       Cr2    Pcp44\n",
       "1       Cr9    Pcp87\n",
       "2      Cr20    Pcp48\n",
       "3      Cr13    Pcp55\n",
       "4       Cr7    Pcp69\n",
       "..      ...      ...\n",
       "95     Cr20    Pcp37\n",
       "96     Cr14    Pcp75\n",
       "97     Cr15    Pcp62\n",
       "98     Cr17    Pcp50\n",
       "99     Cr13    Pcp77\n",
       "\n",
       "[100 rows x 2 columns]"
      ]
     },
     "execution_count": 34,
     "metadata": {},
     "output_type": "execute_result"
    }
   ],
   "source": [
    "unique_pairs = docel_df[['Cargo ID','objectID']].drop_duplicates()\n",
    "unique_pairs"
   ]
  },
  {
   "cell_type": "code",
   "execution_count": 35,
   "metadata": {},
   "outputs": [
    {
     "name": "stdout",
     "output_type": "stream",
     "text": [
      "SO2OCR (DOCEL): 100.00%\n"
     ]
    }
   ],
   "source": [
    "completeness_ratio_docel = len(unique_pairs) / expected_staticO2O\n",
    "print(f\"SO2OCR (DOCEL): {completeness_ratio_acel:.2%}\")"
   ]
  },
  {
   "cell_type": "code",
   "execution_count": null,
   "metadata": {},
   "outputs": [],
   "source": []
  }
 ],
 "metadata": {
  "kernelspec": {
   "display_name": "base",
   "language": "python",
   "name": "python3"
  },
  "language_info": {
   "codemirror_mode": {
    "name": "ipython",
    "version": 3
   },
   "file_extension": ".py",
   "mimetype": "text/x-python",
   "name": "python",
   "nbconvert_exporter": "python",
   "pygments_lexer": "ipython3",
   "version": "3.9.7"
  }
 },
 "nbformat": 4,
 "nbformat_minor": 2
}
