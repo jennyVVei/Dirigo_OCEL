{
 "cells": [
  {
   "cell_type": "code",
   "execution_count": 7,
   "metadata": {},
   "outputs": [],
   "source": [
    "import pandas as pd\n",
    "import ast"
   ]
  },
  {
   "cell_type": "code",
   "execution_count": 4,
   "metadata": {},
   "outputs": [
    {
     "name": "stdout",
     "output_type": "stream",
     "text": [
      "E2O completeness denominator: 1600\n"
     ]
    }
   ],
   "source": [
    "def calculate_e2o_denominator(\n",
    "    lodge_event_count: int,\n",
    "    lodge_objects_per_event: int,\n",
    "    other_event_types_count: int,\n",
    "    other_event_instances_per_type: int\n",
    "):\n",
    "    lodge_links = lodge_event_count * lodge_objects_per_event\n",
    "    other_links = other_event_types_count * other_event_instances_per_type\n",
    "    total = lodge_links + other_links\n",
    "    return total\n",
    "\n",
    "denominator = calculate_e2o_denominator(\n",
    "    lodge_event_count=100,\n",
    "    lodge_objects_per_event=2,\n",
    "    other_event_types_count=7,\n",
    "    other_event_instances_per_type=200\n",
    ")\n",
    "\n",
    "print(f\"E2O completeness denominator: {denominator}\")\n"
   ]
  },
  {
   "cell_type": "markdown",
   "metadata": {},
   "source": [
    "##### Dirigo"
   ]
  },
  {
   "cell_type": "code",
   "execution_count": 5,
   "metadata": {},
   "outputs": [
    {
     "data": {
      "text/plain": [
       "1600"
      ]
     },
     "execution_count": 5,
     "metadata": {},
     "output_type": "execute_result"
    }
   ],
   "source": [
    "dirigo_e2o = pd.read_csv('../Dirigo/OCEL_E2O.csv')\n",
    "numerator = dirigo_e2o[['Event_id', 'Object_id']].drop_duplicates().shape[0]\n",
    "\n",
    "numerator\n"
   ]
  },
  {
   "cell_type": "code",
   "execution_count": 14,
   "metadata": {},
   "outputs": [
    {
     "name": "stdout",
     "output_type": "stream",
     "text": [
      "E2OCR (Dirigo): 100.00%\n"
     ]
    }
   ],
   "source": [
    "e2o_dirigo = numerator / denominator\n",
    "print(f\"E2OCR (Dirigo): {e2o_dirigo:.2%}\")"
   ]
  },
  {
   "cell_type": "markdown",
   "metadata": {},
   "source": [
    "##### ACEL"
   ]
  },
  {
   "cell_type": "code",
   "execution_count": 9,
   "metadata": {},
   "outputs": [],
   "source": [
    "acel_e2o = pd.read_csv('../ACEL/ACEL_Events.csv')"
   ]
  },
  {
   "cell_type": "code",
   "execution_count": 13,
   "metadata": {},
   "outputs": [
    {
     "data": {
      "text/plain": [
       "1600"
      ]
     },
     "execution_count": 13,
     "metadata": {},
     "output_type": "execute_result"
    }
   ],
   "source": [
    "e2o_pairs = []\n",
    "\n",
    "for _, row in acel_e2o.iterrows():\n",
    "    event_id = row['Event_id']\n",
    "    objects_raw = row['Objects']\n",
    "\n",
    "    try:\n",
    "        object_ids = ast.literal_eval(objects_raw)\n",
    "        for obj_id in object_ids:\n",
    "            e2o_pairs.append((event_id, obj_id))\n",
    "    except Exception:\n",
    "        continue  \n",
    "\n",
    "df_e2o = pd.DataFrame(e2o_pairs, columns=['Event_id', 'Object_id']).drop_duplicates()\n",
    "numerator = len(df_e2o)\n",
    "numerator"
   ]
  },
  {
   "cell_type": "code",
   "execution_count": 15,
   "metadata": {},
   "outputs": [
    {
     "name": "stdout",
     "output_type": "stream",
     "text": [
      "E2OCR (ACEL): 100.00%\n"
     ]
    }
   ],
   "source": [
    "e2o_acel = numerator / denominator\n",
    "print(f\"E2OCR (ACEL): {e2o_acel:.2%}\")"
   ]
  },
  {
   "cell_type": "markdown",
   "metadata": {},
   "source": [
    "##### DOCEL"
   ]
  },
  {
   "cell_type": "code",
   "execution_count": 16,
   "metadata": {},
   "outputs": [],
   "source": [
    "docel_e2o = pd.read_csv('../DOCEL/DOCEL_Events.csv')"
   ]
  },
  {
   "cell_type": "code",
   "execution_count": 18,
   "metadata": {},
   "outputs": [],
   "source": [
    "e2o_pairs = []\n",
    "object_columns = ['PickupPlan', 'Cargo', 'Truck']\n",
    "\n",
    "for _, row in docel_e2o .iterrows():\n",
    "    event_id = row['Event_id']\n",
    "    for field in object_columns:\n",
    "        value = row.get(field)\n",
    "        if pd.notna(value):\n",
    "            try:\n",
    "                object_ids = ast.literal_eval(value)\n",
    "                for obj_id in object_ids:\n",
    "                       e2o_pairs.append((event_id, obj_id))\n",
    "            except Exception:\n",
    "                continue\n",
    "\n",
    "df_e2o = pd.DataFrame(e2o_pairs, columns=['Event_id', 'Object_id']).drop_duplicates()\n",
    "numerator = len(df_e2o)"
   ]
  },
  {
   "cell_type": "code",
   "execution_count": 19,
   "metadata": {},
   "outputs": [
    {
     "name": "stdout",
     "output_type": "stream",
     "text": [
      "E2OCR (DOCEL): 100.00%\n"
     ]
    }
   ],
   "source": [
    "e2o_docel = numerator / denominator\n",
    "print(f\"E2OCR (DOCEL): {e2o_docel:.2%}\")"
   ]
  },
  {
   "cell_type": "code",
   "execution_count": null,
   "metadata": {},
   "outputs": [],
   "source": []
  }
 ],
 "metadata": {
  "kernelspec": {
   "display_name": "base",
   "language": "python",
   "name": "python3"
  },
  "language_info": {
   "codemirror_mode": {
    "name": "ipython",
    "version": 3
   },
   "file_extension": ".py",
   "mimetype": "text/x-python",
   "name": "python",
   "nbconvert_exporter": "python",
   "pygments_lexer": "ipython3",
   "version": "3.9.7"
  }
 },
 "nbformat": 4,
 "nbformat_minor": 2
}
