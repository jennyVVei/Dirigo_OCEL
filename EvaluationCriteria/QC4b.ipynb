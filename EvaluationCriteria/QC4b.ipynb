{
 "cells": [
  {
   "cell_type": "code",
   "execution_count": 1,
   "metadata": {},
   "outputs": [
    {
     "name": "stderr",
     "output_type": "stream",
     "text": [
      "c:\\Users\\n9810200\\Anaconda3\\lib\\site-packages\\pandas\\core\\arrays\\masked.py:60: UserWarning: Pandas requires version '1.3.6' or newer of 'bottleneck' (version '1.3.2' currently installed).\n",
      "  from pandas.core import (\n",
      "C:\\Users\\n9810200\\AppData\\Local\\Temp/ipykernel_16220/4135976894.py:1: DeprecationWarning: \n",
      "Pyarrow will become a required dependency of pandas in the next major release of pandas (pandas 3.0),\n",
      "(to allow more performant data types, such as the Arrow string type, and better interoperability with other libraries)\n",
      "but was not found to be installed on your system.\n",
      "If this would cause problems for you,\n",
      "please provide us feedback at https://github.com/pandas-dev/pandas/issues/54466\n",
      "        \n",
      "  import pandas as pd\n"
     ]
    }
   ],
   "source": [
    "import pandas as pd\n",
    "import ast"
   ]
  },
  {
   "cell_type": "code",
   "execution_count": 2,
   "metadata": {},
   "outputs": [],
   "source": [
    "denominator = 1600 #same as the number of unique o2o relationships"
   ]
  },
  {
   "cell_type": "markdown",
   "metadata": {},
   "source": [
    "##### Dirigo"
   ]
  },
  {
   "cell_type": "code",
   "execution_count": 3,
   "metadata": {},
   "outputs": [
    {
     "data": {
      "text/html": [
       "<div>\n",
       "<style scoped>\n",
       "    .dataframe tbody tr th:only-of-type {\n",
       "        vertical-align: middle;\n",
       "    }\n",
       "\n",
       "    .dataframe tbody tr th {\n",
       "        vertical-align: top;\n",
       "    }\n",
       "\n",
       "    .dataframe thead th {\n",
       "        text-align: right;\n",
       "    }\n",
       "</style>\n",
       "<table border=\"1\" class=\"dataframe\">\n",
       "  <thead>\n",
       "    <tr style=\"text-align: right;\">\n",
       "      <th></th>\n",
       "      <th>Event_id</th>\n",
       "      <th>Object_id</th>\n",
       "      <th>E2O_qualifier</th>\n",
       "    </tr>\n",
       "  </thead>\n",
       "  <tbody>\n",
       "    <tr>\n",
       "      <th>0</th>\n",
       "      <td>Lodge_Pcp44</td>\n",
       "      <td>Pcp44</td>\n",
       "      <td>Pickup plan being lodged</td>\n",
       "    </tr>\n",
       "    <tr>\n",
       "      <th>1</th>\n",
       "      <td>Lodge_Pcp44</td>\n",
       "      <td>Cr2</td>\n",
       "      <td>Cargo being scheduled for pickup</td>\n",
       "    </tr>\n",
       "    <tr>\n",
       "      <th>2</th>\n",
       "      <td>Lodge_Pcp87</td>\n",
       "      <td>Pcp87</td>\n",
       "      <td>Pickup plan being lodged</td>\n",
       "    </tr>\n",
       "    <tr>\n",
       "      <th>3</th>\n",
       "      <td>Lodge_Pcp87</td>\n",
       "      <td>Cr9</td>\n",
       "      <td>Cargo being scheduled for pickup</td>\n",
       "    </tr>\n",
       "    <tr>\n",
       "      <th>4</th>\n",
       "      <td>Lodge_Pcp48</td>\n",
       "      <td>Pcp48</td>\n",
       "      <td>Pickup plan being lodged</td>\n",
       "    </tr>\n",
       "    <tr>\n",
       "      <th>...</th>\n",
       "      <td>...</td>\n",
       "      <td>...</td>\n",
       "      <td>...</td>\n",
       "    </tr>\n",
       "    <tr>\n",
       "      <th>1595</th>\n",
       "      <td>eval_trs_exit_tr49_Pcp70</td>\n",
       "      <td>tr49</td>\n",
       "      <td>Truck being evaluated for exit</td>\n",
       "    </tr>\n",
       "    <tr>\n",
       "      <th>1596</th>\n",
       "      <td>weigh_loaded_truck_Pcp70_tr29</td>\n",
       "      <td>tr29</td>\n",
       "      <td>Loaded truck getting weighed</td>\n",
       "    </tr>\n",
       "    <tr>\n",
       "      <th>1597</th>\n",
       "      <td>print_w_ticket_Pcp70_tr29</td>\n",
       "      <td>tr29</td>\n",
       "      <td>Truck receiving weighing ticket</td>\n",
       "    </tr>\n",
       "    <tr>\n",
       "      <th>1598</th>\n",
       "      <td>input_tally_sheet_Pcp70_tr29</td>\n",
       "      <td>tr29</td>\n",
       "      <td>Truck being recorded on tally sheet</td>\n",
       "    </tr>\n",
       "    <tr>\n",
       "      <th>1599</th>\n",
       "      <td>eval_trs_exit_tr29_Pcp70</td>\n",
       "      <td>tr29</td>\n",
       "      <td>Truck being evaluated for exit</td>\n",
       "    </tr>\n",
       "  </tbody>\n",
       "</table>\n",
       "<p>1600 rows × 3 columns</p>\n",
       "</div>"
      ],
      "text/plain": [
       "                           Event_id Object_id  \\\n",
       "0                       Lodge_Pcp44     Pcp44   \n",
       "1                       Lodge_Pcp44       Cr2   \n",
       "2                       Lodge_Pcp87     Pcp87   \n",
       "3                       Lodge_Pcp87       Cr9   \n",
       "4                       Lodge_Pcp48     Pcp48   \n",
       "...                             ...       ...   \n",
       "1595       eval_trs_exit_tr49_Pcp70      tr49   \n",
       "1596  weigh_loaded_truck_Pcp70_tr29      tr29   \n",
       "1597      print_w_ticket_Pcp70_tr29      tr29   \n",
       "1598   input_tally_sheet_Pcp70_tr29      tr29   \n",
       "1599       eval_trs_exit_tr29_Pcp70      tr29   \n",
       "\n",
       "                            E2O_qualifier  \n",
       "0                Pickup plan being lodged  \n",
       "1        Cargo being scheduled for pickup  \n",
       "2                Pickup plan being lodged  \n",
       "3        Cargo being scheduled for pickup  \n",
       "4                Pickup plan being lodged  \n",
       "...                                   ...  \n",
       "1595       Truck being evaluated for exit  \n",
       "1596         Loaded truck getting weighed  \n",
       "1597      Truck receiving weighing ticket  \n",
       "1598  Truck being recorded on tally sheet  \n",
       "1599       Truck being evaluated for exit  \n",
       "\n",
       "[1600 rows x 3 columns]"
      ]
     },
     "execution_count": 3,
     "metadata": {},
     "output_type": "execute_result"
    }
   ],
   "source": [
    "dirigo_e2o = pd.read_csv('../Dirigo/OCEL_E2O.csv')\n",
    "dirigo_e2o"
   ]
  },
  {
   "cell_type": "code",
   "execution_count": 4,
   "metadata": {},
   "outputs": [
    {
     "data": {
      "text/plain": [
       "1600"
      ]
     },
     "execution_count": 4,
     "metadata": {},
     "output_type": "execute_result"
    }
   ],
   "source": [
    "qualified_e2o_dirigo = dirigo_e2o['E2O_qualifier'].notna() & (dirigo_e2o['E2O_qualifier'].str.strip() != '')\n",
    "num_qualified_dirigo = qualified_e2o_dirigo.sum()\n",
    "num_qualified_dirigo"
   ]
  },
  {
   "cell_type": "code",
   "execution_count": 5,
   "metadata": {},
   "outputs": [
    {
     "name": "stdout",
     "output_type": "stream",
     "text": [
      "E2O Qualifier Completeness Ratio (Dirigo): 100.00%\n"
     ]
    }
   ],
   "source": [
    "e2oscr_dirigo = num_qualified_dirigo / denominator\n",
    "print(f\"E2O Qualifier Completeness Ratio (Dirigo): {e2oscr_dirigo:.2%}\")"
   ]
  },
  {
   "cell_type": "markdown",
   "metadata": {},
   "source": [
    "##### ACEL"
   ]
  },
  {
   "cell_type": "code",
   "execution_count": 6,
   "metadata": {},
   "outputs": [],
   "source": [
    "acel_events = pd.read_csv('../ACEL/ACEL_Events.csv')\n"
   ]
  },
  {
   "cell_type": "code",
   "execution_count": 7,
   "metadata": {},
   "outputs": [],
   "source": [
    "e2o_qualifier_tuples = []\n",
    "\n",
    "for _, row in acel_events.iterrows():\n",
    "    event_id = row['Event_id']\n",
    "    object_changes_raw = row.get('ObjectChanges')\n",
    "\n",
    "    if pd.notna(object_changes_raw):\n",
    "        try:\n",
    "            object_changes = ast.literal_eval(object_changes_raw)\n",
    "\n",
    "            for change in object_changes:\n",
    "                if change.get('Attribute') == 'lifecycle':\n",
    "                    object_id = change.get('ObjectId')\n",
    "                    lifecycle_value = change.get('NewValue')\n",
    "\n",
    "                    if object_id and lifecycle_value:\n",
    "                        e2o_qualifier_tuples.append((event_id, object_id, lifecycle_value))\n",
    "        except Exception:\n",
    "            continue  "
   ]
  },
  {
   "cell_type": "code",
   "execution_count": 8,
   "metadata": {},
   "outputs": [
    {
     "data": {
      "text/html": [
       "<div>\n",
       "<style scoped>\n",
       "    .dataframe tbody tr th:only-of-type {\n",
       "        vertical-align: middle;\n",
       "    }\n",
       "\n",
       "    .dataframe tbody tr th {\n",
       "        vertical-align: top;\n",
       "    }\n",
       "\n",
       "    .dataframe thead th {\n",
       "        text-align: right;\n",
       "    }\n",
       "</style>\n",
       "<table border=\"1\" class=\"dataframe\">\n",
       "  <thead>\n",
       "    <tr style=\"text-align: right;\">\n",
       "      <th></th>\n",
       "      <th>Event_id</th>\n",
       "      <th>Object_id</th>\n",
       "      <th>E2O_qualifier</th>\n",
       "    </tr>\n",
       "  </thead>\n",
       "  <tbody>\n",
       "    <tr>\n",
       "      <th>0</th>\n",
       "      <td>Lodge_Pcp44</td>\n",
       "      <td>Pcp44</td>\n",
       "      <td>lodged</td>\n",
       "    </tr>\n",
       "    <tr>\n",
       "      <th>1</th>\n",
       "      <td>Lodge_Pcp44</td>\n",
       "      <td>Cr2</td>\n",
       "      <td>scheduled</td>\n",
       "    </tr>\n",
       "    <tr>\n",
       "      <th>2</th>\n",
       "      <td>Lodge_Pcp87</td>\n",
       "      <td>Pcp87</td>\n",
       "      <td>lodged</td>\n",
       "    </tr>\n",
       "    <tr>\n",
       "      <th>3</th>\n",
       "      <td>Lodge_Pcp87</td>\n",
       "      <td>Cr9</td>\n",
       "      <td>scheduled</td>\n",
       "    </tr>\n",
       "    <tr>\n",
       "      <th>4</th>\n",
       "      <td>Lodge_Pcp48</td>\n",
       "      <td>Pcp48</td>\n",
       "      <td>lodged</td>\n",
       "    </tr>\n",
       "    <tr>\n",
       "      <th>...</th>\n",
       "      <td>...</td>\n",
       "      <td>...</td>\n",
       "      <td>...</td>\n",
       "    </tr>\n",
       "    <tr>\n",
       "      <th>1595</th>\n",
       "      <td>eval_trs_exit_tr49_Pcp70</td>\n",
       "      <td>tr49</td>\n",
       "      <td>released</td>\n",
       "    </tr>\n",
       "    <tr>\n",
       "      <th>1596</th>\n",
       "      <td>weigh_loaded_truck_Pcp70_tr29</td>\n",
       "      <td>tr29</td>\n",
       "      <td>weigh_loaded</td>\n",
       "    </tr>\n",
       "    <tr>\n",
       "      <th>1597</th>\n",
       "      <td>print_w_ticket_Pcp70_tr29</td>\n",
       "      <td>tr29</td>\n",
       "      <td>ticket_issued</td>\n",
       "    </tr>\n",
       "    <tr>\n",
       "      <th>1598</th>\n",
       "      <td>input_tally_sheet_Pcp70_tr29</td>\n",
       "      <td>tr29</td>\n",
       "      <td>tally_recorded</td>\n",
       "    </tr>\n",
       "    <tr>\n",
       "      <th>1599</th>\n",
       "      <td>eval_trs_exit_tr29_Pcp70</td>\n",
       "      <td>tr29</td>\n",
       "      <td>released</td>\n",
       "    </tr>\n",
       "  </tbody>\n",
       "</table>\n",
       "<p>1600 rows × 3 columns</p>\n",
       "</div>"
      ],
      "text/plain": [
       "                           Event_id Object_id   E2O_qualifier\n",
       "0                       Lodge_Pcp44     Pcp44          lodged\n",
       "1                       Lodge_Pcp44       Cr2       scheduled\n",
       "2                       Lodge_Pcp87     Pcp87          lodged\n",
       "3                       Lodge_Pcp87       Cr9       scheduled\n",
       "4                       Lodge_Pcp48     Pcp48          lodged\n",
       "...                             ...       ...             ...\n",
       "1595       eval_trs_exit_tr49_Pcp70      tr49        released\n",
       "1596  weigh_loaded_truck_Pcp70_tr29      tr29    weigh_loaded\n",
       "1597      print_w_ticket_Pcp70_tr29      tr29   ticket_issued\n",
       "1598   input_tally_sheet_Pcp70_tr29      tr29  tally_recorded\n",
       "1599       eval_trs_exit_tr29_Pcp70      tr29        released\n",
       "\n",
       "[1600 rows x 3 columns]"
      ]
     },
     "execution_count": 8,
     "metadata": {},
     "output_type": "execute_result"
    }
   ],
   "source": [
    "df_e2o_qualifier = pd.DataFrame(\n",
    "    e2o_qualifier_tuples,\n",
    "    columns=['Event_id', 'Object_id', 'E2O_qualifier']\n",
    ").drop_duplicates()\n",
    "df_e2o_qualifier"
   ]
  },
  {
   "cell_type": "code",
   "execution_count": 9,
   "metadata": {},
   "outputs": [
    {
     "data": {
      "text/plain": [
       "1600"
      ]
     },
     "execution_count": 9,
     "metadata": {},
     "output_type": "execute_result"
    }
   ],
   "source": [
    "qualified_e2o_acel = df_e2o_qualifier ['E2O_qualifier'].notna() & (df_e2o_qualifier ['E2O_qualifier'].str.strip() != '')\n",
    "num_qualified_acel = qualified_e2o_acel.sum()\n",
    "num_qualified_acel"
   ]
  },
  {
   "cell_type": "code",
   "execution_count": 10,
   "metadata": {},
   "outputs": [
    {
     "name": "stdout",
     "output_type": "stream",
     "text": [
      "E2O Qualifier Completeness Ratio (ACEL): 100.00%\n"
     ]
    }
   ],
   "source": [
    "e2oscr_acel = num_qualified_acel / denominator\n",
    "print(f\"E2O Qualifier Completeness Ratio (ACEL): {e2oscr_acel:.2%}\")"
   ]
  }
 ],
 "metadata": {
  "kernelspec": {
   "display_name": "base",
   "language": "python",
   "name": "python3"
  },
  "language_info": {
   "codemirror_mode": {
    "name": "ipython",
    "version": 3
   },
   "file_extension": ".py",
   "mimetype": "text/x-python",
   "name": "python",
   "nbconvert_exporter": "python",
   "pygments_lexer": "ipython3",
   "version": "3.9.7"
  }
 },
 "nbformat": 4,
 "nbformat_minor": 2
}
